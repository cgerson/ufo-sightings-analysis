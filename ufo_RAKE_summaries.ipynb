{
 "cells": [
  {
   "cell_type": "code",
   "execution_count": 102,
   "metadata": {
    "collapsed": true
   },
   "outputs": [],
   "source": [
    "from pymongo import MongoClient\n",
    "client = MongoClient(host=\"54.69.198.239\",port=27017)\n",
    "db = client.UFO\n",
    "col = db.Summaries\n",
    "\n",
    "import sys\n",
    "sys.path.insert(0, './RAKE-tutorial/')\n",
    "import rake\n",
    "import operator\n",
    "\n",
    "import time\n",
    "import re\n",
    "import os\n",
    "import random\n",
    "import shutil"
   ]
  },
  {
   "cell_type": "code",
   "execution_count": 97,
   "metadata": {
    "collapsed": false
   },
   "outputs": [],
   "source": [
    "# each word has at least n char, phrase has max n words, keyword appears n times\n",
    "rake_object = rake.Rake(\"./RAKE-tutorial/SmartStoplist.txt\", 4, 3, 1)"
   ]
  },
  {
   "cell_type": "markdown",
   "metadata": {},
   "source": [
    "###Load sentences from Mongo"
   ]
  },
  {
   "cell_type": "code",
   "execution_count": 100,
   "metadata": {
    "collapsed": false
   },
   "outputs": [
    {
     "name": "stdout",
     "output_type": "stream",
     "text": [
      "3.70952391624\n"
     ]
    }
   ],
   "source": [
    "#create list of sent from each summary\n",
    "num = 1000\n",
    "sents = []\n",
    "pipeline = [{\"$limit\":num}]\n",
    "test_texts = []\n",
    "t = time.time()\n",
    "\n",
    "for i in col.aggregate(pipeline):\n",
    "    test_texts.append(i)\n",
    "\n",
    "#for \n",
    "    #sents += i['word_2_vec_sentences']\n",
    "\n",
    "print time.time() - t\n",
    "\n",
    "one_doc = test_texts[2]['word_2_vec_sentences']"
   ]
  },
  {
   "cell_type": "code",
   "execution_count": 82,
   "metadata": {
    "collapsed": true
   },
   "outputs": [],
   "source": [
    "def join_sentences(doc):\n",
    "    \"\"\"\n",
    "    Join separated words back to text block\n",
    "    \"\"\"\n",
    "    joined = []\n",
    "    for sent in doc:\n",
    "        joined.append(\" \".join(sent))\n",
    "    text = \". \".join(joined) + \".\"\n",
    "    return text"
   ]
  },
  {
   "cell_type": "code",
   "execution_count": 98,
   "metadata": {
    "collapsed": false
   },
   "outputs": [
    {
     "name": "stdout",
     "output_type": "stream",
     "text": [
      "[(u'set pattern', 4.0), (u'back deck', 4.0), (u'sister noticed', 4.0), (u'clear night', 4.0), (u'orangeish color', 4.0), (u'great speed', 4.0), (u'strange lights', 3.5), (u'lights', 1.5), (u'hours', 1.0), (u'kind', 1.0), (u'chasing', 1.0), (u'slowing', 1.0), (u'area', 1.0), (u'appeared', 1.0), (u'reamined', 1.0), (u'looked', 1.0), (u'yellow', 1.0), (u'patternswe', 1.0)]\n",
      "\n",
      "[(u'medium sized sphere', 9.0), (u'making sharp turns', 9.0), (u'visible doors', 4.0), (u'angular movements', 4.0), (u'windows', 1.0)]\n",
      "\n",
      "[(u'roof top rushing', 9.0), (u'slowly hoverd moving', 9.0), (u'outter ends rotatiing', 9.0), (u'round quiet rotating', 7.5), (u'light cought', 4.0), (u'paralized knowing', 4.0), (u'house watching', 4.0), (u'real good', 4.0), (u'wonderous arrangement', 4.0), (u'rotating lights', 4.0), (u'low flying', 4.0), (u'life beleving', 4.0), (u'beautiful display', 4.0), (u'quiet', 2.0), (u'lights', 1.5), (u'forget', 1.0), (u'terrified', 1.0), (u'movie', 1.0), (u'night', 1.0), (u'quickly', 1.0), (u'window', 1.0), (u'gaze', 1.0), (u'sped', 1.0), (u'thoght', 1.0), (u'sitting', 1.0), (u'enjoyment', 1.0), (u'attention', 1.0), (u'moment', 1.0), (u'craft', 1.0), (u'expereance', 1.0), (u'beleve', 1.0), (u'whitnessing', 1.0), (u'distraction', 1.0), (u'made', 1.0), (u'instant', 1.0), (u'side', 1.0), (u'looked', 1.0), (u'thing', 1.0), (u'fear', 1.0), (u'comfterble', 1.0), (u'wild', 1.0), (u'normaly', 1.0)]\n",
      "\n",
      "[(u'glowing engines flew', 8.0), (u'rectangular craft', 4.0), (u'5000 7000feet altitude', 4.0), (u'jet engines', 4.0), (u'sky flying', 4.0), (u'land vehicle', 4.0), (u'phonix arizonia', 4.0), (u'engines', 2.0), (u'appeared', 1.0), (u'house', 1.0), (u'tires', 1.0), (u'decided', 1.0), (u'home', 1.0), (u'watched', 1.0), (u'begining', 1.0), (u'visiting', 1.0), (u'visit', 1.0), (u'lights', 1.0), (u'startled', 1.0), (u'parents', 1.0), (u'aunt', 1.0), (u'swim', 1.0), (u'august', 1.0), (u'reported', 1.0), (u'july', 1.0), (u'pool', 1.0), (u'sister', 1.0), (u'disapeared', 1.0), (u'failed', 1.0), (u'rockets', 1.0), (u'contact', 1.0), (u'place', 1.0)]\n",
      "\n",
      "[(u'triangular shape objecti', 7.0), (u'shape appeared', 4.0), (u'watching thinking', 4.0), (u'dark talking', 4.0), (u'odd satelite', 4.0), (u'shooting stars', 4.0), (u'back garden', 3.5), (u'shape', 2.0), (u'triangular', 2.0), (u'back', 1.5), (u'summer', 1.0), (u'house', 1.0), (u'cold', 1.0), (u'bored', 1.0), (u'friend', 1.0), (u'move', 1.0), (u'sitting', 1.0), (u'couple', 1.0), (u'early', 1.0), (u'aircraft', 1.0), (u'beers', 1.0), (u'date', 1.0), (u'seperate', 1.0), (u'morning', 1.0), (u'looked', 1.0), (u'disapearing', 1.0), (u'time', 1.0), (u'simply', 1.0)]\n",
      "\n",
      "[(u'flew realy fast', 8.0), (u'pill shaped object', 7.0), (u'nother 1 write', 4.0), (u'object', 2.0), (u'fast', 2.0), (u'pill', 2.0), (u'nothen', 1.0), (u'good', 1.0), (u'1 past', 1.0), (u'seconds', 1.0), (u'flying', 1.0), (u'skyfirst', 1.0), (u'friend', 1.0), (u'disapers', 1.0)]\n",
      "\n",
      "[(u'strange beeping sound', 9.0), (u'cigar shaped object', 9.0), (u'thgey flew', 4.0), (u'2 turned', 1.0), (u'hovered', 1.0), (u'heard', 1.0), (u'20 seconds', 1.0)]\n",
      "\n",
      "[(u'stars changing intensity', 9.0), (u'star moving', 4.0), (u'light rangereported', 4.0), (u'looping', 1.0)]\n",
      "\n",
      "[(u'heavy cloud cover', 9.0), (u'hovering position', 4.0), (u'45 degree angle', 4.0), (u'astronomy project', 4.0), (u'stationary position', 4.0), (u'city wide', 4.0), (u'awoke early', 4.0), (u'bedroom window', 3.5), (u'visible thought', 3.5), (u'red spot', 3.5), (u'moon viewing', 3.142857142857143), (u'thought', 1.5), (u'window', 1.5), (u'spot', 1.5), (u'moon', 1.1428571428571428), (u'restless', 1.0), (u'father', 1.0), (u'assigned', 1.0), (u'dawn', 1.0), (u'subject', 1.0), (u'phases', 1.0), (u'rays', 1.0), (u'monitor', 1.0), (u'make', 1.0), (u'biggest', 1.0), (u'hidden', 1.0), (u'frame', 1.0), (u'told', 1.0), (u'watching', 1.0), (u'remembered', 1.0), (u'calendars', 1.0), (u'flew', 1.0), (u'binoculars', 1.0), (u'entries', 1.0), (u'daughter', 1.0), (u'nieces', 1.0), (u'called', 1.0), (u'nephews', 1.0), (u'face', 1.0), (u'looked', 1.0), (u'night', 1.0), (u'served', 1.0), (u'study', 1.0), (u'approaching', 1.0)]\n",
      "\n",
      "[(u'ncwhile travelling back', 8.0), (u'horizon evenly spaced', 7.666666666666667), (u'pretty high', 4.0), (u'green white', 4.0), (u'light formation', 4.0), (u'breakdown lane', 4.0), (u'continued driving', 4.0), (u'truckstop road', 4.0), (u'couldnt make', 4.0), (u'passed overhead', 3.5), (u'strange lights', 3.4), (u'lights faded', 3.4), (u'move west', 3.0), (u'back', 2.0), (u'horizon', 1.6666666666666667), (u'move', 1.5), (u'west', 1.5), (u'passed', 1.5), (u'lights', 1.4), (u'color', 1.0), (u'shape', 1.0), (u'sight', 1.0), (u'blue', 1.0), (u'noticed', 1.0), (u'east', 1.0), (u'highway', 1.0), (u'north', 1.0), (u'pittsburgh', 1.0), (u'coninued', 1.0), (u'observe', 1.0), (u'arch', 1.0), (u'sound', 1.0), (u'pulled', 1.0), (u'craft', 1.0), (u'changed', 1.0), (u'doubled', 1.0), (u'didnt', 1.0)]\n",
      "\n"
     ]
    }
   ],
   "source": [
    "for i,_ in enumerate(test_texts):\n",
    "    one_doc = test_texts[i]['word_2_vec_sentences']\n",
    "    print rake_object.run(join_sentences(one_doc))\n",
    "    print"
   ]
  },
  {
   "cell_type": "code",
   "execution_count": 93,
   "metadata": {
    "collapsed": false
   },
   "outputs": [
    {
     "data": {
      "text/plain": [
       "[(u'sped', 1.0), (u'instant', 1.0), (u'moment', 1.0)]"
      ]
     },
     "execution_count": 93,
     "metadata": {},
     "output_type": "execute_result"
    }
   ],
   "source": [
    "keywords"
   ]
  },
  {
   "cell_type": "markdown",
   "metadata": {},
   "source": [
    "###Test/train directories with keys"
   ]
  },
  {
   "cell_type": "code",
   "execution_count": 101,
   "metadata": {
    "collapsed": false
   },
   "outputs": [
    {
     "data": {
      "text/plain": [
       "1000"
      ]
     },
     "execution_count": 101,
     "metadata": {},
     "output_type": "execute_result"
    }
   ],
   "source": [
    "len(test_texts)"
   ]
  },
  {
   "cell_type": "code",
   "execution_count": 104,
   "metadata": {
    "collapsed": false
   },
   "outputs": [
    {
     "ename": "OSError",
     "evalue": "[Errno 2] No such file or directory: './train'",
     "output_type": "error",
     "traceback": [
      "\u001b[0;31m---------------------------------------------------------------------------\u001b[0m",
      "\u001b[0;31mOSError\u001b[0m                                   Traceback (most recent call last)",
      "\u001b[0;32m<ipython-input-104-6b4eb33cee56>\u001b[0m in \u001b[0;36m<module>\u001b[0;34m()\u001b[0m\n\u001b[1;32m      2\u001b[0m \u001b[0mKEA_TEST_DIR\u001b[0m \u001b[0;34m=\u001b[0m \u001b[0;34m\"./test\"\u001b[0m\u001b[0;34m\u001b[0m\u001b[0m\n\u001b[1;32m      3\u001b[0m \u001b[0;34m\u001b[0m\u001b[0m\n\u001b[0;32m----> 4\u001b[0;31m \u001b[0mshutil\u001b[0m\u001b[0;34m.\u001b[0m\u001b[0mrmtree\u001b[0m\u001b[0;34m(\u001b[0m\u001b[0mKEA_TRAIN_DIR\u001b[0m\u001b[0;34m)\u001b[0m\u001b[0;34m\u001b[0m\u001b[0m\n\u001b[0m\u001b[1;32m      5\u001b[0m \u001b[0mshutil\u001b[0m\u001b[0;34m.\u001b[0m\u001b[0mrmtree\u001b[0m\u001b[0;34m(\u001b[0m\u001b[0mKEA_TEST_DIR\u001b[0m\u001b[0;34m)\u001b[0m\u001b[0;34m\u001b[0m\u001b[0m\n\u001b[1;32m      6\u001b[0m \u001b[0mos\u001b[0m\u001b[0;34m.\u001b[0m\u001b[0mmkdir\u001b[0m\u001b[0;34m(\u001b[0m\u001b[0mKEYS_TRAIN_DIR\u001b[0m\u001b[0;34m)\u001b[0m\u001b[0;34m\u001b[0m\u001b[0m\n",
      "\u001b[0;32m/usr/local/Cellar/python/2.7.10/Frameworks/Python.framework/Versions/2.7/lib/python2.7/shutil.pyc\u001b[0m in \u001b[0;36mrmtree\u001b[0;34m(path, ignore_errors, onerror)\u001b[0m\n\u001b[1;32m    237\u001b[0m         \u001b[0mnames\u001b[0m \u001b[0;34m=\u001b[0m \u001b[0mos\u001b[0m\u001b[0;34m.\u001b[0m\u001b[0mlistdir\u001b[0m\u001b[0;34m(\u001b[0m\u001b[0mpath\u001b[0m\u001b[0;34m)\u001b[0m\u001b[0;34m\u001b[0m\u001b[0m\n\u001b[1;32m    238\u001b[0m     \u001b[0;32mexcept\u001b[0m \u001b[0mos\u001b[0m\u001b[0;34m.\u001b[0m\u001b[0merror\u001b[0m\u001b[0;34m,\u001b[0m \u001b[0merr\u001b[0m\u001b[0;34m:\u001b[0m\u001b[0;34m\u001b[0m\u001b[0m\n\u001b[0;32m--> 239\u001b[0;31m         \u001b[0monerror\u001b[0m\u001b[0;34m(\u001b[0m\u001b[0mos\u001b[0m\u001b[0;34m.\u001b[0m\u001b[0mlistdir\u001b[0m\u001b[0;34m,\u001b[0m \u001b[0mpath\u001b[0m\u001b[0;34m,\u001b[0m \u001b[0msys\u001b[0m\u001b[0;34m.\u001b[0m\u001b[0mexc_info\u001b[0m\u001b[0;34m(\u001b[0m\u001b[0;34m)\u001b[0m\u001b[0;34m)\u001b[0m\u001b[0;34m\u001b[0m\u001b[0m\n\u001b[0m\u001b[1;32m    240\u001b[0m     \u001b[0;32mfor\u001b[0m \u001b[0mname\u001b[0m \u001b[0;32min\u001b[0m \u001b[0mnames\u001b[0m\u001b[0;34m:\u001b[0m\u001b[0;34m\u001b[0m\u001b[0m\n\u001b[1;32m    241\u001b[0m         \u001b[0mfullname\u001b[0m \u001b[0;34m=\u001b[0m \u001b[0mos\u001b[0m\u001b[0;34m.\u001b[0m\u001b[0mpath\u001b[0m\u001b[0;34m.\u001b[0m\u001b[0mjoin\u001b[0m\u001b[0;34m(\u001b[0m\u001b[0mpath\u001b[0m\u001b[0;34m,\u001b[0m \u001b[0mname\u001b[0m\u001b[0;34m)\u001b[0m\u001b[0;34m\u001b[0m\u001b[0m\n",
      "\u001b[0;32m/usr/local/Cellar/python/2.7.10/Frameworks/Python.framework/Versions/2.7/lib/python2.7/shutil.pyc\u001b[0m in \u001b[0;36mrmtree\u001b[0;34m(path, ignore_errors, onerror)\u001b[0m\n\u001b[1;32m    235\u001b[0m     \u001b[0mnames\u001b[0m \u001b[0;34m=\u001b[0m \u001b[0;34m[\u001b[0m\u001b[0;34m]\u001b[0m\u001b[0;34m\u001b[0m\u001b[0m\n\u001b[1;32m    236\u001b[0m     \u001b[0;32mtry\u001b[0m\u001b[0;34m:\u001b[0m\u001b[0;34m\u001b[0m\u001b[0m\n\u001b[0;32m--> 237\u001b[0;31m         \u001b[0mnames\u001b[0m \u001b[0;34m=\u001b[0m \u001b[0mos\u001b[0m\u001b[0;34m.\u001b[0m\u001b[0mlistdir\u001b[0m\u001b[0;34m(\u001b[0m\u001b[0mpath\u001b[0m\u001b[0;34m)\u001b[0m\u001b[0;34m\u001b[0m\u001b[0m\n\u001b[0m\u001b[1;32m    238\u001b[0m     \u001b[0;32mexcept\u001b[0m \u001b[0mos\u001b[0m\u001b[0;34m.\u001b[0m\u001b[0merror\u001b[0m\u001b[0;34m,\u001b[0m \u001b[0merr\u001b[0m\u001b[0;34m:\u001b[0m\u001b[0;34m\u001b[0m\u001b[0m\n\u001b[1;32m    239\u001b[0m         \u001b[0monerror\u001b[0m\u001b[0;34m(\u001b[0m\u001b[0mos\u001b[0m\u001b[0;34m.\u001b[0m\u001b[0mlistdir\u001b[0m\u001b[0;34m,\u001b[0m \u001b[0mpath\u001b[0m\u001b[0;34m,\u001b[0m \u001b[0msys\u001b[0m\u001b[0;34m.\u001b[0m\u001b[0mexc_info\u001b[0m\u001b[0;34m(\u001b[0m\u001b[0;34m)\u001b[0m\u001b[0;34m)\u001b[0m\u001b[0;34m\u001b[0m\u001b[0m\n",
      "\u001b[0;31mOSError\u001b[0m: [Errno 2] No such file or directory: './train'"
     ]
    }
   ],
   "source": [
    "KEA_TRAIN_DIR = \"./train\"\n",
    "KEA_TEST_DIR = \"./test\"\n",
    "\n",
    "os.mkdir(KEYS_TRAIN_DIR)\n",
    "os.mkdir(KEYS_TEST_DIR)"
   ]
  },
  {
   "cell_type": "code",
   "execution_count": null,
   "metadata": {
    "collapsed": true
   },
   "outputs": [],
   "source": [
    "for text in tests_texts:\n",
    "    train = random.uniform(0, 1) < 0.75\n",
    "    txtdir = KEA_TRAIN_DIR if train else KEA_TEST_DIR\n",
    "    ftxt = open(os.path.join(txtdir, basename + \".txt\"), 'wb')\n",
    "    ftxt.write(data[\"text\"].encode(\"utf-8\"))\n",
    "    ftxt.close()"
   ]
  }
 ],
 "metadata": {
  "kernelspec": {
   "display_name": "Python 2",
   "language": "python",
   "name": "python2"
  },
  "language_info": {
   "codemirror_mode": {
    "name": "ipython",
    "version": 2
   },
   "file_extension": ".py",
   "mimetype": "text/x-python",
   "name": "python",
   "nbconvert_exporter": "python",
   "pygments_lexer": "ipython2",
   "version": "2.7.10"
  }
 },
 "nbformat": 4,
 "nbformat_minor": 0
}
