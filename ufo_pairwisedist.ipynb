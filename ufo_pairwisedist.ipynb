{
 "cells": [
  {
   "cell_type": "code",
   "execution_count": 192,
   "metadata": {
    "collapsed": false
   },
   "outputs": [],
   "source": [
    "from sklearn.metrics.pairwise import pairwise_distances\n",
    "import pandas as pd\n",
    "import networkx as nx\n",
    "import time\n",
    "import matplotlib.pyplot as plt\n",
    "%matplotlib inline\n",
    "import numpy as np\n",
    "from dateutil import parser\n",
    "import datetime\n",
    "plt.style.use('fivethirtyeight')\n",
    "from datetime import datetime\n",
    "from geopy.geocoders import Nominatim\n",
    "geolocator = Nominatim(country_bias=\"US\")\n",
    "import scipy.stats\n",
    "import pickle"
   ]
  },
  {
   "cell_type": "markdown",
   "metadata": {},
   "source": [
    "###Lat/Lon"
   ]
  },
  {
   "cell_type": "code",
   "execution_count": 139,
   "metadata": {
    "collapsed": false
   },
   "outputs": [],
   "source": [
    "#load unique cities csv\n",
    "df_cities = pd.read_csv(\"4945_count_sightings_correct_dates_correct_percap.csv\",index_col=0)\n",
    "#del df_cities['Unnamed: 0']\n",
    "df_cities['dist_comp'] = pd.Series()\n",
    "del df_cities['sqrt_airport']\n",
    "del df_cities['sqrt_base']\n",
    "del df_cities['sqrt_per_capita']\n",
    "del df_cities['cubert_per_capita']\n",
    "del df_cities['log_airport']\n",
    "del df_cities['log_base']\n",
    "del df_cities['log_per_capita']"
   ]
  },
  {
   "cell_type": "code",
   "execution_count": 140,
   "metadata": {
    "collapsed": true
   },
   "outputs": [],
   "source": [
    "#load full csv\n",
    "full_df = pd.read_csv(\"52150_locations_USA_census_nonull.csv\")\n",
    "del full_df['Unnamed: 0']"
   ]
  },
  {
   "cell_type": "code",
   "execution_count": 141,
   "metadata": {
    "collapsed": false
   },
   "outputs": [
    {
     "name": "stdout",
     "output_type": "stream",
     "text": [
      "('Shape', (4945, 4945))\n",
      "('Number of comps', 1414)\n",
      "\n",
      "('Runtime', 1.5108799934387207)\n",
      "\n"
     ]
    }
   ],
   "source": [
    "subset = df_cities[['lat', 'lon']] #my lat/long\n",
    "\n",
    "t = time.time() #timing\n",
    "\n",
    "d = pairwise_distances(subset) #find pairwise distances between (lat,lon)\n",
    "print(\"Shape\",d.shape)\n",
    "\n",
    "d_bool = d < .25 #close obs are less than .35 away from each other, assign true if so\n",
    "\n",
    "g = nx.from_numpy_matrix(d_bool) #make my components ???\n",
    "\n",
    "print(\"Number of comps\",nx.number_connected_components(g))\n",
    "\n",
    "print\n",
    "print(\"Runtime\",time.time()-t)\n",
    "print\n",
    "\n",
    "comps = [_ for _ in nx.connected_components(g)]\n",
    "length_of_comps = [len(_) for _ in comps]\n",
    "length_of_comps = pd.Series(length_of_comps)"
   ]
  },
  {
   "cell_type": "code",
   "execution_count": 142,
   "metadata": {
    "collapsed": false
   },
   "outputs": [
    {
     "name": "stdout",
     "output_type": "stream",
     "text": [
      "Alamogordo, NM\n",
      "Tularosa, NM\n"
     ]
    }
   ],
   "source": [
    "#example component\n",
    "for ind in comps[90]:\n",
    "    print df_cities.ix[ind].CityST"
   ]
  },
  {
   "cell_type": "code",
   "execution_count": 143,
   "metadata": {
    "collapsed": true
   },
   "outputs": [],
   "source": [
    "#assign comp number to obs row of df\n",
    "for i in range(len(length_of_comps)):\n",
    "    for ind in comps[i]:\n",
    "        df_cities.set_value(ind,9,i,takeable = True)"
   ]
  },
  {
   "cell_type": "code",
   "execution_count": 144,
   "metadata": {
    "collapsed": false
   },
   "outputs": [],
   "source": [
    "#write to csv\n",
    "df_cities.to_csv(\"./data/4945_dist_comp_closer.csv\",encoding=\"utf-8\")"
   ]
  },
  {
   "cell_type": "code",
   "execution_count": 145,
   "metadata": {
    "collapsed": true
   },
   "outputs": [],
   "source": [
    "#merge with full dataset\n",
    "merged = pd.merge(full_df,df_cities[['CityST','dist_comp']],how='inner',on='CityST')"
   ]
  },
  {
   "cell_type": "markdown",
   "metadata": {},
   "source": [
    "###Date field to seconds"
   ]
  },
  {
   "cell_type": "code",
   "execution_count": 146,
   "metadata": {
    "collapsed": true
   },
   "outputs": [],
   "source": [
    "#find seconds since 1900 (arbitrary date)\n",
    "def to_seconds(x):\n",
    "    t = datetime.datetime(1900,1,1)\n",
    "    return (parser.parse(x) - t).total_seconds()"
   ]
  },
  {
   "cell_type": "code",
   "execution_count": 147,
   "metadata": {
    "collapsed": false
   },
   "outputs": [],
   "source": [
    "#chose seconds over toordinal function because it includes time down to seconds, not just day\n",
    "merged['seconds'] = merged['date_datetime'].map(lambda x: to_seconds(x)) "
   ]
  },
  {
   "cell_type": "markdown",
   "metadata": {},
   "source": [
    "###Bin seconds field"
   ]
  },
  {
   "cell_type": "code",
   "execution_count": 148,
   "metadata": {
    "collapsed": false
   },
   "outputs": [],
   "source": [
    "labels = range(100)\n",
    "\n",
    "#bin distance to Airport and Military bases\n",
    "bins_airport = pd.cut(full_df.AirportDist,100,labels=labels)\n",
    "bins_military = pd.cut(full_df.BaseDist,100,labels=labels)"
   ]
  },
  {
   "cell_type": "code",
   "execution_count": 149,
   "metadata": {
    "collapsed": false
   },
   "outputs": [],
   "source": [
    "#use pandas function cut to bin seconds\n",
    "num_bins = 30000\n",
    "labels_seconds = range(num_bins)\n",
    "bins_seconds = pd.cut(merged.seconds,num_bins, labels=labels_seconds)"
   ]
  },
  {
   "cell_type": "code",
   "execution_count": 150,
   "metadata": {
    "collapsed": false
   },
   "outputs": [],
   "source": [
    "#add bins as column to df\n",
    "merged['bin_seconds'] = bins_seconds"
   ]
  },
  {
   "cell_type": "code",
   "execution_count": 151,
   "metadata": {
    "collapsed": false
   },
   "outputs": [
    {
     "data": {
      "text/html": [
       "<div>\n",
       "<table border=\"1\" class=\"dataframe\">\n",
       "  <thead>\n",
       "    <tr style=\"text-align: right;\">\n",
       "      <th></th>\n",
       "      <th>city</th>\n",
       "      <th>shape</th>\n",
       "      <th>duration</th>\n",
       "      <th>state</th>\n",
       "      <th>link</th>\n",
       "      <th>date</th>\n",
       "      <th>date_datetime</th>\n",
       "      <th>duration_seconds</th>\n",
       "      <th>day</th>\n",
       "      <th>link_no_ext</th>\n",
       "      <th>...</th>\n",
       "      <th>Name_2010</th>\n",
       "      <th>County</th>\n",
       "      <th>LAT</th>\n",
       "      <th>LON</th>\n",
       "      <th>year</th>\n",
       "      <th>pop</th>\n",
       "      <th>yr_of_sighting</th>\n",
       "      <th>dist_comp</th>\n",
       "      <th>seconds</th>\n",
       "      <th>bin_seconds</th>\n",
       "    </tr>\n",
       "  </thead>\n",
       "  <tbody>\n",
       "    <tr>\n",
       "      <th>0</th>\n",
       "      <td>Mokena</td>\n",
       "      <td>circle</td>\n",
       "      <td>30 seconds</td>\n",
       "      <td>IL</td>\n",
       "      <td>121/S121083.html</td>\n",
       "      <td>8/13/15 21:00</td>\n",
       "      <td>2015-08-13 21:00:00</td>\n",
       "      <td>30</td>\n",
       "      <td>3</td>\n",
       "      <td>121/S121083</td>\n",
       "      <td>...</td>\n",
       "      <td>Mokena village</td>\n",
       "      <td>Will</td>\n",
       "      <td>41.529863</td>\n",
       "      <td>-87.87771</td>\n",
       "      <td>2010</td>\n",
       "      <td>18740</td>\n",
       "      <td>2015</td>\n",
       "      <td>66</td>\n",
       "      <td>3648488400</td>\n",
       "      <td>29999</td>\n",
       "    </tr>\n",
       "    <tr>\n",
       "      <th>1</th>\n",
       "      <td>Mokena</td>\n",
       "      <td>cigar</td>\n",
       "      <td>1-3 minutes</td>\n",
       "      <td>IL</td>\n",
       "      <td>108/S108589.html</td>\n",
       "      <td>4/12/14 21:35</td>\n",
       "      <td>2014-04-12 21:35:00</td>\n",
       "      <td>180</td>\n",
       "      <td>5</td>\n",
       "      <td>108/S108589</td>\n",
       "      <td>...</td>\n",
       "      <td>Mokena village</td>\n",
       "      <td>Will</td>\n",
       "      <td>41.529863</td>\n",
       "      <td>-87.87771</td>\n",
       "      <td>2010</td>\n",
       "      <td>18740</td>\n",
       "      <td>2014</td>\n",
       "      <td>66</td>\n",
       "      <td>3606327300</td>\n",
       "      <td>29500</td>\n",
       "    </tr>\n",
       "    <tr>\n",
       "      <th>2</th>\n",
       "      <td>Mokena</td>\n",
       "      <td>unknown</td>\n",
       "      <td>15-20 minutes</td>\n",
       "      <td>IL</td>\n",
       "      <td>102/S102620.html</td>\n",
       "      <td>9/24/13 19:45</td>\n",
       "      <td>2013-09-24 19:45:00</td>\n",
       "      <td>1200</td>\n",
       "      <td>1</td>\n",
       "      <td>102/S102620</td>\n",
       "      <td>...</td>\n",
       "      <td>Mokena village</td>\n",
       "      <td>Will</td>\n",
       "      <td>41.529863</td>\n",
       "      <td>-87.87771</td>\n",
       "      <td>2010</td>\n",
       "      <td>18740</td>\n",
       "      <td>2013</td>\n",
       "      <td>66</td>\n",
       "      <td>3589040700</td>\n",
       "      <td>29295</td>\n",
       "    </tr>\n",
       "    <tr>\n",
       "      <th>3</th>\n",
       "      <td>Mokena</td>\n",
       "      <td>circle</td>\n",
       "      <td>15-20 minutes</td>\n",
       "      <td>IL</td>\n",
       "      <td>089/S89213.html</td>\n",
       "      <td>5/26/12 21:00</td>\n",
       "      <td>2012-05-26 21:00:00</td>\n",
       "      <td>1200</td>\n",
       "      <td>5</td>\n",
       "      <td>089/S89213</td>\n",
       "      <td>...</td>\n",
       "      <td>Mokena village</td>\n",
       "      <td>Will</td>\n",
       "      <td>41.529863</td>\n",
       "      <td>-87.87771</td>\n",
       "      <td>2010</td>\n",
       "      <td>18740</td>\n",
       "      <td>2012</td>\n",
       "      <td>66</td>\n",
       "      <td>3547054800</td>\n",
       "      <td>28797</td>\n",
       "    </tr>\n",
       "    <tr>\n",
       "      <th>4</th>\n",
       "      <td>Mokena</td>\n",
       "      <td>light</td>\n",
       "      <td>20 sec</td>\n",
       "      <td>IL</td>\n",
       "      <td>083/S83822.html</td>\n",
       "      <td>9/9/11 23:05</td>\n",
       "      <td>2011-09-09 23:05:00</td>\n",
       "      <td>20</td>\n",
       "      <td>4</td>\n",
       "      <td>083/S83822</td>\n",
       "      <td>...</td>\n",
       "      <td>Mokena village</td>\n",
       "      <td>Will</td>\n",
       "      <td>41.529863</td>\n",
       "      <td>-87.87771</td>\n",
       "      <td>2010</td>\n",
       "      <td>18740</td>\n",
       "      <td>2011</td>\n",
       "      <td>66</td>\n",
       "      <td>3524598300</td>\n",
       "      <td>28531</td>\n",
       "    </tr>\n",
       "  </tbody>\n",
       "</table>\n",
       "<p>5 rows × 38 columns</p>\n",
       "</div>"
      ],
      "text/plain": [
       "     city    shape       duration state              link           date  \\\n",
       "0  Mokena   circle     30 seconds    IL  121/S121083.html  8/13/15 21:00   \n",
       "1  Mokena    cigar    1-3 minutes    IL  108/S108589.html  4/12/14 21:35   \n",
       "2  Mokena  unknown  15-20 minutes    IL  102/S102620.html  9/24/13 19:45   \n",
       "3  Mokena   circle  15-20 minutes    IL   089/S89213.html  5/26/12 21:00   \n",
       "4  Mokena    light         20 sec    IL   083/S83822.html   9/9/11 23:05   \n",
       "\n",
       "         date_datetime  duration_seconds  day  link_no_ext     ...      \\\n",
       "0  2015-08-13 21:00:00                30    3  121/S121083     ...       \n",
       "1  2014-04-12 21:35:00               180    5  108/S108589     ...       \n",
       "2  2013-09-24 19:45:00              1200    1  102/S102620     ...       \n",
       "3  2012-05-26 21:00:00              1200    5   089/S89213     ...       \n",
       "4  2011-09-09 23:05:00                20    4   083/S83822     ...       \n",
       "\n",
       "        Name_2010  County        LAT       LON  year    pop  yr_of_sighting  \\\n",
       "0  Mokena village    Will  41.529863 -87.87771  2010  18740            2015   \n",
       "1  Mokena village    Will  41.529863 -87.87771  2010  18740            2014   \n",
       "2  Mokena village    Will  41.529863 -87.87771  2010  18740            2013   \n",
       "3  Mokena village    Will  41.529863 -87.87771  2010  18740            2012   \n",
       "4  Mokena village    Will  41.529863 -87.87771  2010  18740            2011   \n",
       "\n",
       "  dist_comp     seconds bin_seconds  \n",
       "0        66  3648488400       29999  \n",
       "1        66  3606327300       29500  \n",
       "2        66  3589040700       29295  \n",
       "3        66  3547054800       28797  \n",
       "4        66  3524598300       28531  \n",
       "\n",
       "[5 rows x 38 columns]"
      ]
     },
     "execution_count": 151,
     "metadata": {},
     "output_type": "execute_result"
    }
   ],
   "source": [
    "merged.head()"
   ]
  },
  {
   "cell_type": "code",
   "execution_count": 152,
   "metadata": {
    "collapsed": false
   },
   "outputs": [
    {
     "data": {
      "text/plain": [
       "<matplotlib.axes._subplots.AxesSubplot at 0x10889c8d0>"
      ]
     },
     "execution_count": 152,
     "metadata": {},
     "output_type": "execute_result"
    },
    {
     "data": {
      "image/png": "[encoded data removed]",
      "text/plain": [
       "<matplotlib.figure.Figure at 0x10889cb90>"
      ]
     },
     "metadata": {},
     "output_type": "display_data"
    }
   ],
   "source": [
    "#see distribution of years\n",
    "merged.yr_of_sighting.hist(bins=50)"
   ]
  },
  {
   "cell_type": "markdown",
   "metadata": {},
   "source": [
    "###Aggregate"
   ]
  },
  {
   "cell_type": "code",
   "execution_count": 153,
   "metadata": {
    "collapsed": false
   },
   "outputs": [],
   "source": [
    "merged['bin_seconds'] = merged['bin_seconds'].astype(int) #convert bin_seconds from categorical var"
   ]
  },
  {
   "cell_type": "code",
   "execution_count": 154,
   "metadata": {
    "collapsed": false
   },
   "outputs": [],
   "source": [
    "agg = merged.groupby(['bin_seconds','dist_comp']) #groupby time bin and location bin"
   ]
  },
  {
   "cell_type": "code",
   "execution_count": 156,
   "metadata": {
    "collapsed": false
   },
   "outputs": [],
   "source": [
    "counts = pd.DataFrame(agg.size()).reset_index()\n",
    "counts=counts.rename(columns = {0:'counts'})"
   ]
  },
  {
   "cell_type": "code",
   "execution_count": 157,
   "metadata": {
    "collapsed": false
   },
   "outputs": [],
   "source": [
    "counts = counts.reset_index()"
   ]
  },
  {
   "cell_type": "code",
   "execution_count": 158,
   "metadata": {
    "collapsed": false
   },
   "outputs": [
    {
     "data": {
      "text/html": [
       "<div>\n",
       "<table border=\"1\" class=\"dataframe\">\n",
       "  <thead>\n",
       "    <tr style=\"text-align: right;\">\n",
       "      <th></th>\n",
       "      <th>index</th>\n",
       "      <th>bin_seconds</th>\n",
       "      <th>dist_comp</th>\n",
       "      <th>counts</th>\n",
       "    </tr>\n",
       "  </thead>\n",
       "  <tbody>\n",
       "    <tr>\n",
       "      <th>0</th>\n",
       "      <td>0</td>\n",
       "      <td>0</td>\n",
       "      <td>141</td>\n",
       "      <td>1</td>\n",
       "    </tr>\n",
       "    <tr>\n",
       "      <th>1</th>\n",
       "      <td>1</td>\n",
       "      <td>847</td>\n",
       "      <td>141</td>\n",
       "      <td>1</td>\n",
       "    </tr>\n",
       "    <tr>\n",
       "      <th>2</th>\n",
       "      <td>2</td>\n",
       "      <td>1554</td>\n",
       "      <td>732</td>\n",
       "      <td>1</td>\n",
       "    </tr>\n",
       "    <tr>\n",
       "      <th>3</th>\n",
       "      <td>3</td>\n",
       "      <td>1893</td>\n",
       "      <td>575</td>\n",
       "      <td>1</td>\n",
       "    </tr>\n",
       "    <tr>\n",
       "      <th>4</th>\n",
       "      <td>4</td>\n",
       "      <td>2541</td>\n",
       "      <td>141</td>\n",
       "      <td>1</td>\n",
       "    </tr>\n",
       "  </tbody>\n",
       "</table>\n",
       "</div>"
      ],
      "text/plain": [
       "   index  bin_seconds  dist_comp  counts\n",
       "0      0            0        141       1\n",
       "1      1          847        141       1\n",
       "2      2         1554        732       1\n",
       "3      3         1893        575       1\n",
       "4      4         2541        141       1"
      ]
     },
     "execution_count": 158,
     "metadata": {},
     "output_type": "execute_result"
    }
   ],
   "source": [
    "counts.head()"
   ]
  },
  {
   "cell_type": "markdown",
   "metadata": {},
   "source": [
    "###Merge this"
   ]
  },
  {
   "cell_type": "code",
   "execution_count": 25,
   "metadata": {
    "collapsed": false
   },
   "outputs": [
    {
     "name": "stdout",
     "output_type": "stream",
     "text": [
      "52150\n",
      "45174\n"
     ]
    }
   ],
   "source": [
    "print len(merged)\n",
    "print len(counts)"
   ]
  },
  {
   "cell_type": "code",
   "execution_count": 159,
   "metadata": {
    "collapsed": false
   },
   "outputs": [],
   "source": [
    "#have each sighting be attributed to \"counts\" value, or number of sightings in its cluster\n",
    "new_merged = pd.merge(merged,counts,how=\"inner\",on=['bin_seconds','dist_comp'])"
   ]
  },
  {
   "cell_type": "code",
   "execution_count": 160,
   "metadata": {
    "collapsed": false
   },
   "outputs": [
    {
     "data": {
      "text/html": [
       "<div>\n",
       "<table border=\"1\" class=\"dataframe\">\n",
       "  <thead>\n",
       "    <tr style=\"text-align: right;\">\n",
       "      <th></th>\n",
       "      <th>city</th>\n",
       "      <th>shape</th>\n",
       "      <th>duration</th>\n",
       "      <th>state</th>\n",
       "      <th>link</th>\n",
       "      <th>date</th>\n",
       "      <th>date_datetime</th>\n",
       "      <th>duration_seconds</th>\n",
       "      <th>day</th>\n",
       "      <th>link_no_ext</th>\n",
       "      <th>...</th>\n",
       "      <th>LAT</th>\n",
       "      <th>LON</th>\n",
       "      <th>year</th>\n",
       "      <th>pop</th>\n",
       "      <th>yr_of_sighting</th>\n",
       "      <th>dist_comp</th>\n",
       "      <th>seconds</th>\n",
       "      <th>bin_seconds</th>\n",
       "      <th>index</th>\n",
       "      <th>counts</th>\n",
       "    </tr>\n",
       "  </thead>\n",
       "  <tbody>\n",
       "    <tr>\n",
       "      <th>0</th>\n",
       "      <td>Mokena</td>\n",
       "      <td>circle</td>\n",
       "      <td>30 seconds</td>\n",
       "      <td>IL</td>\n",
       "      <td>121/S121083.html</td>\n",
       "      <td>8/13/15 21:00</td>\n",
       "      <td>2015-08-13 21:00:00</td>\n",
       "      <td>30</td>\n",
       "      <td>3</td>\n",
       "      <td>121/S121083</td>\n",
       "      <td>...</td>\n",
       "      <td>41.529863</td>\n",
       "      <td>-87.87771</td>\n",
       "      <td>2010</td>\n",
       "      <td>18740</td>\n",
       "      <td>2015</td>\n",
       "      <td>66</td>\n",
       "      <td>3648488400</td>\n",
       "      <td>29999</td>\n",
       "      <td>45172</td>\n",
       "      <td>1</td>\n",
       "    </tr>\n",
       "    <tr>\n",
       "      <th>1</th>\n",
       "      <td>Mokena</td>\n",
       "      <td>cigar</td>\n",
       "      <td>1-3 minutes</td>\n",
       "      <td>IL</td>\n",
       "      <td>108/S108589.html</td>\n",
       "      <td>4/12/14 21:35</td>\n",
       "      <td>2014-04-12 21:35:00</td>\n",
       "      <td>180</td>\n",
       "      <td>5</td>\n",
       "      <td>108/S108589</td>\n",
       "      <td>...</td>\n",
       "      <td>41.529863</td>\n",
       "      <td>-87.87771</td>\n",
       "      <td>2010</td>\n",
       "      <td>18740</td>\n",
       "      <td>2014</td>\n",
       "      <td>66</td>\n",
       "      <td>3606327300</td>\n",
       "      <td>29500</td>\n",
       "      <td>40003</td>\n",
       "      <td>1</td>\n",
       "    </tr>\n",
       "    <tr>\n",
       "      <th>2</th>\n",
       "      <td>Mokena</td>\n",
       "      <td>unknown</td>\n",
       "      <td>15-20 minutes</td>\n",
       "      <td>IL</td>\n",
       "      <td>102/S102620.html</td>\n",
       "      <td>9/24/13 19:45</td>\n",
       "      <td>2013-09-24 19:45:00</td>\n",
       "      <td>1200</td>\n",
       "      <td>1</td>\n",
       "      <td>102/S102620</td>\n",
       "      <td>...</td>\n",
       "      <td>41.529863</td>\n",
       "      <td>-87.87771</td>\n",
       "      <td>2010</td>\n",
       "      <td>18740</td>\n",
       "      <td>2013</td>\n",
       "      <td>66</td>\n",
       "      <td>3589040700</td>\n",
       "      <td>29295</td>\n",
       "      <td>37703</td>\n",
       "      <td>1</td>\n",
       "    </tr>\n",
       "    <tr>\n",
       "      <th>3</th>\n",
       "      <td>Mokena</td>\n",
       "      <td>circle</td>\n",
       "      <td>15-20 minutes</td>\n",
       "      <td>IL</td>\n",
       "      <td>089/S89213.html</td>\n",
       "      <td>5/26/12 21:00</td>\n",
       "      <td>2012-05-26 21:00:00</td>\n",
       "      <td>1200</td>\n",
       "      <td>5</td>\n",
       "      <td>089/S89213</td>\n",
       "      <td>...</td>\n",
       "      <td>41.529863</td>\n",
       "      <td>-87.87771</td>\n",
       "      <td>2010</td>\n",
       "      <td>18740</td>\n",
       "      <td>2012</td>\n",
       "      <td>66</td>\n",
       "      <td>3547054800</td>\n",
       "      <td>28797</td>\n",
       "      <td>32479</td>\n",
       "      <td>1</td>\n",
       "    </tr>\n",
       "    <tr>\n",
       "      <th>4</th>\n",
       "      <td>Mokena</td>\n",
       "      <td>light</td>\n",
       "      <td>20 sec</td>\n",
       "      <td>IL</td>\n",
       "      <td>083/S83822.html</td>\n",
       "      <td>9/9/11 23:05</td>\n",
       "      <td>2011-09-09 23:05:00</td>\n",
       "      <td>20</td>\n",
       "      <td>4</td>\n",
       "      <td>083/S83822</td>\n",
       "      <td>...</td>\n",
       "      <td>41.529863</td>\n",
       "      <td>-87.87771</td>\n",
       "      <td>2010</td>\n",
       "      <td>18740</td>\n",
       "      <td>2011</td>\n",
       "      <td>66</td>\n",
       "      <td>3524598300</td>\n",
       "      <td>28531</td>\n",
       "      <td>30218</td>\n",
       "      <td>2</td>\n",
       "    </tr>\n",
       "  </tbody>\n",
       "</table>\n",
       "<p>5 rows × 40 columns</p>\n",
       "</div>"
      ],
      "text/plain": [
       "     city    shape       duration state              link           date  \\\n",
       "0  Mokena   circle     30 seconds    IL  121/S121083.html  8/13/15 21:00   \n",
       "1  Mokena    cigar    1-3 minutes    IL  108/S108589.html  4/12/14 21:35   \n",
       "2  Mokena  unknown  15-20 minutes    IL  102/S102620.html  9/24/13 19:45   \n",
       "3  Mokena   circle  15-20 minutes    IL   089/S89213.html  5/26/12 21:00   \n",
       "4  Mokena    light         20 sec    IL   083/S83822.html   9/9/11 23:05   \n",
       "\n",
       "         date_datetime  duration_seconds  day  link_no_ext  ...          LAT  \\\n",
       "0  2015-08-13 21:00:00                30    3  121/S121083  ...    41.529863   \n",
       "1  2014-04-12 21:35:00               180    5  108/S108589  ...    41.529863   \n",
       "2  2013-09-24 19:45:00              1200    1  102/S102620  ...    41.529863   \n",
       "3  2012-05-26 21:00:00              1200    5   089/S89213  ...    41.529863   \n",
       "4  2011-09-09 23:05:00                20    4   083/S83822  ...    41.529863   \n",
       "\n",
       "        LON  year    pop yr_of_sighting  dist_comp     seconds bin_seconds  \\\n",
       "0 -87.87771  2010  18740           2015         66  3648488400       29999   \n",
       "1 -87.87771  2010  18740           2014         66  3606327300       29500   \n",
       "2 -87.87771  2010  18740           2013         66  3589040700       29295   \n",
       "3 -87.87771  2010  18740           2012         66  3547054800       28797   \n",
       "4 -87.87771  2010  18740           2011         66  3524598300       28531   \n",
       "\n",
       "   index counts  \n",
       "0  45172      1  \n",
       "1  40003      1  \n",
       "2  37703      1  \n",
       "3  32479      1  \n",
       "4  30218      2  \n",
       "\n",
       "[5 rows x 40 columns]"
      ]
     },
     "execution_count": 160,
     "metadata": {},
     "output_type": "execute_result"
    }
   ],
   "source": [
    "new_merged.head()"
   ]
  },
  {
   "cell_type": "code",
   "execution_count": 161,
   "metadata": {
    "collapsed": false
   },
   "outputs": [
    {
     "data": {
      "text/plain": [
       "<matplotlib.axes._subplots.AxesSubplot at 0x11bd683d0>"
      ]
     },
     "execution_count": 161,
     "metadata": {},
     "output_type": "execute_result"
    },
    {
     "data": {
      "image/png": "[encoded data removed]",
      "text/plain": [
       "<matplotlib.figure.Figure at 0x11a7ba990>"
      ]
     },
     "metadata": {},
     "output_type": "display_data"
    }
   ],
   "source": [
    "new_merged.counts.hist(bins=100)"
   ]
  },
  {
   "cell_type": "code",
   "execution_count": 29,
   "metadata": {
    "collapsed": true
   },
   "outputs": [],
   "source": [
    "#write to csv\n",
    "new_merged.to_csv(\"./data/52150_reliability_count_closer_index.csv\",encoding=\"utf-8\")"
   ]
  },
  {
   "cell_type": "markdown",
   "metadata": {},
   "source": [
    "##Matching new sightings with similar data (time & location)"
   ]
  },
  {
   "cell_type": "code",
   "execution_count": null,
   "metadata": {
    "collapsed": true
   },
   "outputs": [],
   "source": [
    "#try KNN\n",
    "results = []\n",
    "for n in range(1,21):\n",
    "    k = KNeighborsClassifier(n_neighbors=n)\n",
    "    k.fit(X_train,y_train)\n",
    "    results.append(accuracy_score(k.predict(X_test),y_test))\n",
    "    print(\"Accuracy at k={0}: {1:0.4f}\".format(n,accuracy_score(k.predict(X_test),y_test)))\n",
    "\n",
    "k_best = results.index(max(results))+1\n",
    "print(\"\\nMax accuracy score of {0:0.4f} with k-value {1}\".format(max(results),duplicates(results,max(results))))"
   ]
  },
  {
   "cell_type": "code",
   "execution_count": 405,
   "metadata": {
    "collapsed": false
   },
   "outputs": [],
   "source": [
    "location = \"sdfdfs\"\n",
    "def check_location(location = location):\n",
    "    try:\n",
    "        geo = geolocator.geocode(location, timeout=60).raw\n",
    "        return location\n",
    "    except:\n",
    "        return check_location(location = \"Austin, TX\")"
   ]
  },
  {
   "cell_type": "code",
   "execution_count": 406,
   "metadata": {
    "collapsed": false
   },
   "outputs": [
    {
     "data": {
      "text/plain": [
       "'Austin, TX'"
      ]
     },
     "execution_count": 406,
     "metadata": {},
     "output_type": "execute_result"
    }
   ],
   "source": [
    "check_location(\"asdsad\")"
   ]
  },
  {
   "cell_type": "code",
   "execution_count": 187,
   "metadata": {
    "collapsed": true
   },
   "outputs": [],
   "source": [
    "def date_to_seconds(x):\n",
    "    date_object = datetime.strptime(x, '%m/%d/%Y %H:%M')\n",
    "    seconds = to_seconds(date_object)\n",
    "    return seconds\n",
    "\n",
    "def to_seconds(x):\n",
    "    t = datetime(1900,1,1)\n",
    "    try:\n",
    "        return (parser.parse(x) - t).total_seconds()\n",
    "    except:\n",
    "        return (x-t).total_seconds()\n",
    "\n",
    "def to_ordinal(x):\n",
    "    return parser.parse(x).toordinal()\n",
    "\n",
    "def location_to_comp(x):\n",
    "    from geopy.geocoders import Nominatim\n",
    "    geolocator = Nominatim()\n",
    "    \n",
    "    cities = pd.read_csv(\"4945_dist_comp_closer.csv\")    \n",
    "    \n",
    "    if x in cities.CityST.values: #if location already in df. change this to hash lookup\n",
    "        lat = cities[cities['CityST']==x].lat.values[0]\n",
    "        lon = cities[cities['CityST']==x].lon.values[0]\n",
    "    else:\n",
    "        lat = geolocator.geocode(x).latitude\n",
    "        lon = geolocator.geocode(x).longitude\n",
    "    \n",
    "    d = pairwise_distances(df_cities[['lon','lat']],(lon,lat))\n",
    "    \n",
    "    return df_cities.ix[np.argsort(d,axis=None)[0]]['dist_comp']"
   ]
  },
  {
   "cell_type": "code",
   "execution_count": 184,
   "metadata": {
    "collapsed": false
   },
   "outputs": [
    {
     "data": {
      "text/plain": [
       "64.0"
      ]
     },
     "execution_count": 184,
     "metadata": {},
     "output_type": "execute_result"
    }
   ],
   "source": [
    "#find distance comp of location or nearest location in df\n",
    "location_to_comp(\"austin, tx\")"
   ]
  },
  {
   "cell_type": "code",
   "execution_count": 190,
   "metadata": {
    "collapsed": false
   },
   "outputs": [],
   "source": [
    "#return link ids for nearest sightings\n",
    "select_date = \"04/11/2014 8:00\"\n",
    "select_location = \"Seattle, WA\"\n",
    "\n",
    "def test(time = 45000):\n",
    "    subset_time = merged[abs(merged['seconds']-date_to_seconds(select_date))<time] #45000 within 12 hours\n",
    "    subset_timedist = subset_time[subset_time['dist_comp']==\n",
    "                                  int(location_to_comp(select_location))]\n",
    "    test_links = subset_timedist.link_no_ext.values\n",
    "    \n",
    "    if len(test_links)>0:\n",
    "        return test_links\n",
    "    \n",
    "    else:\n",
    "        print time\n",
    "        time += 100000\n",
    "        return test(time)"
   ]
  },
  {
   "cell_type": "code",
   "execution_count": 191,
   "metadata": {
    "collapsed": false
   },
   "outputs": [
    {
     "data": {
      "text/plain": [
       "array(['108/S108583', '108/S108538'], dtype=object)"
      ]
     },
     "execution_count": 191,
     "metadata": {},
     "output_type": "execute_result"
    }
   ],
   "source": [
    "test_links = test()\n",
    "test_links"
   ]
  },
  {
   "cell_type": "code",
   "execution_count": 378,
   "metadata": {
    "collapsed": false
   },
   "outputs": [],
   "source": [
    "#pickle results\n",
    "with open(\"test_links.pkl\",'wb') as pf:\n",
    "    pickle.dump(test_links,pf)"
   ]
  },
  {
   "cell_type": "markdown",
   "metadata": {
    "collapsed": true
   },
   "source": [
    "##Compare distributions of \"reliable\" and \"unreliable\" sightings"
   ]
  },
  {
   "cell_type": "code",
   "execution_count": 164,
   "metadata": {
    "collapsed": true
   },
   "outputs": [],
   "source": [
    "df = pd.read_csv(\"./data/52150_reliability_count_closer_index.csv\")\n",
    "del df['Unnamed: 0']\n",
    "df['time'] = df['date_datetime'].map(lambda x: parser.parse(x).time().hour)"
   ]
  },
  {
   "cell_type": "code",
   "execution_count": 165,
   "metadata": {
    "collapsed": true
   },
   "outputs": [],
   "source": [
    "def time_of_day(x):\n",
    "    if x >= 21 or x < 5:\n",
    "        return \"night\"\n",
    "    elif x >= 5 and x < 12:\n",
    "        return \"morning\"\n",
    "    else:\n",
    "        return \"afternoon\"\n",
    "    \n",
    "df['time_of_day'] = df['time'].map(lambda x: time_of_day(x))"
   ]
  },
  {
   "cell_type": "code",
   "execution_count": 166,
   "metadata": {
    "collapsed": false
   },
   "outputs": [],
   "source": [
    "reliables = df[df['counts']>=3].reset_index()\n",
    "unreliables = df[df['counts']==1].reset_index()"
   ]
  },
  {
   "cell_type": "code",
   "execution_count": 167,
   "metadata": {
    "collapsed": false
   },
   "outputs": [
    {
     "data": {
      "text/plain": [
       "4429"
      ]
     },
     "execution_count": 167,
     "metadata": {},
     "output_type": "execute_result"
    }
   ],
   "source": [
    "reliables['shape'].value_counts().sum()"
   ]
  },
  {
   "cell_type": "code",
   "execution_count": 113,
   "metadata": {
    "collapsed": false
   },
   "outputs": [
    {
     "name": "stdout",
     "output_type": "stream",
     "text": [
      "(-29.386639111568154, 2.0863364568326756e-180)\n",
      "(-27.941343898789832, 2.4442942760532803e-164)\n",
      "(7.6628331885942069, 2.1844749217248073e-14)\n",
      "(0.22823072843646897, 0.81947629404819466)\n",
      "(33.055524510921487, 3.8791001666283194e-224)\n"
     ]
    }
   ],
   "source": [
    "print scipy.stats.ttest_ind(np.array(reliables.AirportDist),np.array(unreliables.AirportDist),equal_var = False)\n",
    "print scipy.stats.ttest_ind(np.array(reliables.BaseDist),np.array(unreliables.BaseDist),equal_var = False)\n",
    "print scipy.stats.ttest_ind(np.array(reliables['pop']),np.array(unreliables['pop']),equal_var = False)\n",
    "print scipy.stats.ttest_ind(np.array(reliables['duration_seconds']),np.array(unreliables['duration_seconds']),equal_var = False)\n",
    "print scipy.stats.ttest_ind(np.array(reliables['seconds']),np.array(unreliables['seconds']),equal_var = False)"
   ]
  },
  {
   "cell_type": "code",
   "execution_count": 169,
   "metadata": {
    "collapsed": false
   },
   "outputs": [
    {
     "name": "stdout",
     "output_type": "stream",
     "text": [
      "unreliable\n",
      "airport 15.3046670623\n",
      "base 48.9231492655\n",
      "pop 170521.372341\n",
      "night 0.54579822589\n",
      "morning 0.103012033308\n",
      "afternoon 0.351189740802\n",
      "\n",
      "reliable\n",
      "airport 10.6140468635\n",
      "base 35.4195240347\n",
      "pop 243112.45315\n",
      "night 0.608037931813\n",
      "morning 0.0593813501919\n",
      "afternoon 0.332580717995\n",
      "\n"
     ]
    }
   ],
   "source": [
    "#compare various metrics between reliable and unreliable\n",
    "dfs = {\"reliable\":reliables, \"unreliable\":unreliables}\n",
    "for name,df in dfs.iteritems():\n",
    "    print name\n",
    "    print \"airport\",df.AirportDist.describe()['mean']\n",
    "    print \"base\",df.BaseDist.describe()['mean']\n",
    "    print \"pop\",df['pop'].describe()['mean']\n",
    "    print \"night\",float(df.time_of_day.value_counts()['night'])/df.time_of_day.value_counts().sum()\n",
    "    print \"morning\",float(df.time_of_day.value_counts()['morning'])/df.time_of_day.value_counts().sum()\n",
    "    print \"afternoon\",float(df.time_of_day.value_counts()['afternoon'])/df.time_of_day.value_counts().sum()\n",
    "    print"
   ]
  },
  {
   "cell_type": "code",
   "execution_count": 170,
   "metadata": {
    "collapsed": false
   },
   "outputs": [
    {
     "data": {
      "text/plain": [
       "<matplotlib.text.Text at 0x1120fbf90>"
      ]
     },
     "execution_count": 170,
     "metadata": {},
     "output_type": "execute_result"
    },
    {
     "data": {
      "image/png": "[encoded data removed]",
      "text/plain": [
       "<matplotlib.figure.Figure at 0x11e2659d0>"
      ]
     },
     "metadata": {},
     "output_type": "display_data"
    }
   ],
   "source": [
    "unreliables['shape'].value_counts().plot(kind=\"bar\", color='r')\n",
    "plt.title(\"Unreliables: shape count\")"
   ]
  },
  {
   "cell_type": "code",
   "execution_count": 63,
   "metadata": {
    "collapsed": false
   },
   "outputs": [
    {
     "data": {
      "text/plain": [
       "<matplotlib.text.Text at 0x117793c10>"
      ]
     },
     "execution_count": 63,
     "metadata": {},
     "output_type": "execute_result"
    },
    {
     "data": {
      "image/png": "[encoded data removed]",
      "text/plain": [
       "<matplotlib.figure.Figure at 0x11772c110>"
      ]
     },
     "metadata": {},
     "output_type": "display_data"
    }
   ],
   "source": [
    "reliables['shape'].value_counts().plot(kind=\"bar\")\n",
    "plt.title(\"Reliables: shape count\")"
   ]
  },
  {
   "cell_type": "code",
   "execution_count": 171,
   "metadata": {
    "collapsed": false
   },
   "outputs": [
    {
     "data": {
      "text/plain": [
       "<matplotlib.text.Text at 0x11d165050>"
      ]
     },
     "execution_count": 171,
     "metadata": {},
     "output_type": "execute_result"
    },
    {
     "data": {
      "image/png": "[encoded data removed]",
      "text/plain": [
       "<matplotlib.figure.Figure at 0x10c992590>"
      ]
     },
     "metadata": {},
     "output_type": "display_data"
    }
   ],
   "source": [
    "unreliables['pop'].hist(bins=100, color='r')\n",
    "plt.title(\"Uneliables: population\")"
   ]
  },
  {
   "cell_type": "code",
   "execution_count": 172,
   "metadata": {
    "collapsed": false
   },
   "outputs": [
    {
     "data": {
      "text/plain": [
       "<matplotlib.text.Text at 0x11e72d4d0>"
      ]
     },
     "execution_count": 172,
     "metadata": {},
     "output_type": "execute_result"
    },
    {
     "data": {
      "image/png": "[encoded data removed]",
      "text/plain": [
       "<matplotlib.figure.Figure at 0x10c9af950>"
      ]
     },
     "metadata": {},
     "output_type": "display_data"
    }
   ],
   "source": [
    "reliables['pop'].hist(bins=100)\n",
    "plt.title(\"Reliables: population\")"
   ]
  },
  {
   "cell_type": "code",
   "execution_count": 173,
   "metadata": {
    "collapsed": false
   },
   "outputs": [
    {
     "data": {
      "text/plain": [
       "<matplotlib.text.Text at 0x1100bf810>"
      ]
     },
     "execution_count": 173,
     "metadata": {},
     "output_type": "execute_result"
    },
    {
     "data": {
      "image/png": "[encoded data removed]",
      "text/plain": [
       "<matplotlib.figure.Figure at 0x11eeea9d0>"
      ]
     },
     "metadata": {},
     "output_type": "display_data"
    }
   ],
   "source": [
    "unreliables.AirportDist.hist(bins=100, color='r')\n",
    "plt.title(\"Unreliables: Distance to nearest airport\")"
   ]
  },
  {
   "cell_type": "code",
   "execution_count": 174,
   "metadata": {
    "collapsed": false
   },
   "outputs": [
    {
     "data": {
      "text/plain": [
       "<matplotlib.text.Text at 0x11b53ee50>"
      ]
     },
     "execution_count": 174,
     "metadata": {},
     "output_type": "execute_result"
    },
    {
     "data": {
      "image/png": "[encoded data removed]",
      "text/plain": [
       "<matplotlib.figure.Figure at 0x116787090>"
      ]
     },
     "metadata": {},
     "output_type": "display_data"
    }
   ],
   "source": [
    "reliables.AirportDist.hist(bins=100)\n",
    "plt.title(\"Reliables: distance to nearest airport\")"
   ]
  },
  {
   "cell_type": "code",
   "execution_count": 176,
   "metadata": {
    "collapsed": false
   },
   "outputs": [
    {
     "data": {
      "text/plain": [
       "<matplotlib.text.Text at 0x11bc21790>"
      ]
     },
     "execution_count": 176,
     "metadata": {},
     "output_type": "execute_result"
    },
    {
     "data": {
      "image/png": "[encoded data removed]",
      "text/plain": [
       "<matplotlib.figure.Figure at 0x11bbb5c50>"
      ]
     },
     "metadata": {},
     "output_type": "display_data"
    }
   ],
   "source": [
    "unreliables.BaseDist.hist(bins=100, color='r')\n",
    "plt.title(\"Unreliables: distance to nearest military base\\n\")"
   ]
  },
  {
   "cell_type": "code",
   "execution_count": 177,
   "metadata": {
    "collapsed": false
   },
   "outputs": [
    {
     "data": {
      "text/plain": [
       "<matplotlib.text.Text at 0x11f293b90>"
      ]
     },
     "execution_count": 177,
     "metadata": {},
     "output_type": "execute_result"
    },
    {
     "data": {
      "image/png": "[encoded data removed]",
      "text/plain": [
       "<matplotlib.figure.Figure at 0x11f095910>"
      ]
     },
     "metadata": {},
     "output_type": "display_data"
    }
   ],
   "source": [
    "reliables.BaseDist.hist(bins=100)\n",
    "plt.title(\"Reliables: distance to nearest military base\\n\")"
   ]
  },
  {
   "cell_type": "code",
   "execution_count": 178,
   "metadata": {
    "collapsed": false
   },
   "outputs": [
    {
     "data": {
      "text/plain": [
       "<matplotlib.text.Text at 0x1210e0510>"
      ]
     },
     "execution_count": 178,
     "metadata": {},
     "output_type": "execute_result"
    },
    {
     "data": {
      "image/png": "[encoded data removed]",
      "text/plain": [
       "<matplotlib.figure.Figure at 0x121052050>"
      ]
     },
     "metadata": {},
     "output_type": "display_data"
    }
   ],
   "source": [
    "unreliables.time.hist(bins=100, color = 'r')\n",
    "plt.title(\"Unreliables: time of day\\n\")"
   ]
  },
  {
   "cell_type": "code",
   "execution_count": 179,
   "metadata": {
    "collapsed": false
   },
   "outputs": [
    {
     "data": {
      "text/plain": [
       "<matplotlib.text.Text at 0x121fd6e10>"
      ]
     },
     "execution_count": 179,
     "metadata": {},
     "output_type": "execute_result"
    },
    {
     "data": {
      "image/png": "[encoded data removed]",
      "text/plain": [
       "<matplotlib.figure.Figure at 0x121f50050>"
      ]
     },
     "metadata": {},
     "output_type": "display_data"
    }
   ],
   "source": [
    "reliables.time.hist(bins=100)\n",
    "plt.title(\"Reliables: time of day\\n\")"
   ]
  },
  {
   "cell_type": "code",
   "execution_count": null,
   "metadata": {
    "collapsed": true
   },
   "outputs": [],
   "source": []
  }
 ],
 "metadata": {
  "kernelspec": {
   "display_name": "Python 2",
   "language": "python",
   "name": "python2"
  },
  "language_info": {
   "codemirror_mode": {
    "name": "ipython",
    "version": 2
   },
   "file_extension": ".py",
   "mimetype": "text/x-python",
   "name": "python",
   "nbconvert_exporter": "python",
   "pygments_lexer": "ipython2",
   "version": "2.7.10"
  }
 },
 "nbformat": 4,
 "nbformat_minor": 0
}
