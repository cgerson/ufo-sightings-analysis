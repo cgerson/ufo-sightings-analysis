{
 "cells": [
  {
   "cell_type": "code",
   "execution_count": 1,
   "metadata": {
    "collapsed": false
   },
   "outputs": [],
   "source": [
    "from sklearn.metrics.pairwise import pairwise_distances\n",
    "import pandas as pd\n",
    "import networkx as nx\n",
    "import time\n",
    "import matplotlib.pyplot as plt\n",
    "%matplotlib inline\n",
    "import numpy as np\n",
    "from dateutil import parser\n",
    "import datetime"
   ]
  },
  {
   "cell_type": "markdown",
   "metadata": {},
   "source": [
    "###Lat/Lon"
   ]
  },
  {
   "cell_type": "code",
   "execution_count": 5,
   "metadata": {
    "collapsed": false
   },
   "outputs": [],
   "source": [
    "#load unique cities csv\n",
    "df_cities = pd.read_csv(\"4942_count_sightings_ST.csv\",index_col=0)\n",
    "#del df_cities['Unnamed: 0']\n",
    "df_cities['dist_comp'] = pd.Series()"
   ]
  },
  {
   "cell_type": "code",
   "execution_count": 8,
   "metadata": {
    "collapsed": false
   },
   "outputs": [
    {
     "data": {
      "text/html": [
       "<div>\n",
       "<table border=\"1\" class=\"dataframe\">\n",
       "  <thead>\n",
       "    <tr style=\"text-align: right;\">\n",
       "      <th></th>\n",
       "      <th>CityST</th>\n",
       "      <th>AirportDist</th>\n",
       "      <th>pop</th>\n",
       "      <th>lon</th>\n",
       "      <th>lat</th>\n",
       "      <th>BaseDist</th>\n",
       "      <th>count</th>\n",
       "      <th>per_capita</th>\n",
       "      <th>ST</th>\n",
       "      <th>dist_comp</th>\n",
       "    </tr>\n",
       "  </thead>\n",
       "  <tbody>\n",
       "    <tr>\n",
       "      <th>0</th>\n",
       "      <td>Surfside Beach, SC</td>\n",
       "      <td>9.187467</td>\n",
       "      <td>3898.894737</td>\n",
       "      <td>-78.973275</td>\n",
       "      <td>33.606370</td>\n",
       "      <td>7.512232</td>\n",
       "      <td>38</td>\n",
       "      <td>0.009746</td>\n",
       "      <td>SC</td>\n",
       "      <td>NaN</td>\n",
       "    </tr>\n",
       "    <tr>\n",
       "      <th>1</th>\n",
       "      <td>Shallotte, NC</td>\n",
       "      <td>12.265988</td>\n",
       "      <td>3675.000000</td>\n",
       "      <td>-78.327025</td>\n",
       "      <td>33.926678</td>\n",
       "      <td>31.688831</td>\n",
       "      <td>32</td>\n",
       "      <td>0.008707</td>\n",
       "      <td>NC</td>\n",
       "      <td>NaN</td>\n",
       "    </tr>\n",
       "    <tr>\n",
       "      <th>2</th>\n",
       "      <td>Myrtle Beach, SC</td>\n",
       "      <td>3.959324</td>\n",
       "      <td>26351.031250</td>\n",
       "      <td>-78.891014</td>\n",
       "      <td>33.695258</td>\n",
       "      <td>5.820015</td>\n",
       "      <td>224</td>\n",
       "      <td>0.008501</td>\n",
       "      <td>SC</td>\n",
       "      <td>NaN</td>\n",
       "    </tr>\n",
       "    <tr>\n",
       "      <th>3</th>\n",
       "      <td>Mount Vernon, KY</td>\n",
       "      <td>9.595759</td>\n",
       "      <td>2597.636364</td>\n",
       "      <td>-84.499587</td>\n",
       "      <td>38.039751</td>\n",
       "      <td>45.912659</td>\n",
       "      <td>22</td>\n",
       "      <td>0.008469</td>\n",
       "      <td>KY</td>\n",
       "      <td>NaN</td>\n",
       "    </tr>\n",
       "    <tr>\n",
       "      <th>4</th>\n",
       "      <td>North Myrtle Beach, SC</td>\n",
       "      <td>4.085878</td>\n",
       "      <td>13528.767857</td>\n",
       "      <td>-78.678858</td>\n",
       "      <td>33.822749</td>\n",
       "      <td>29.389271</td>\n",
       "      <td>112</td>\n",
       "      <td>0.008279</td>\n",
       "      <td>SC</td>\n",
       "      <td>NaN</td>\n",
       "    </tr>\n",
       "  </tbody>\n",
       "</table>\n",
       "</div>"
      ],
      "text/plain": [
       "                   CityST  AirportDist           pop        lon        lat  \\\n",
       "0      Surfside Beach, SC     9.187467   3898.894737 -78.973275  33.606370   \n",
       "1           Shallotte, NC    12.265988   3675.000000 -78.327025  33.926678   \n",
       "2        Myrtle Beach, SC     3.959324  26351.031250 -78.891014  33.695258   \n",
       "3        Mount Vernon, KY     9.595759   2597.636364 -84.499587  38.039751   \n",
       "4  North Myrtle Beach, SC     4.085878  13528.767857 -78.678858  33.822749   \n",
       "\n",
       "    BaseDist  count  per_capita  ST  dist_comp  \n",
       "0   7.512232     38    0.009746  SC        NaN  \n",
       "1  31.688831     32    0.008707  NC        NaN  \n",
       "2   5.820015    224    0.008501  SC        NaN  \n",
       "3  45.912659     22    0.008469  KY        NaN  \n",
       "4  29.389271    112    0.008279  SC        NaN  "
      ]
     },
     "execution_count": 8,
     "metadata": {},
     "output_type": "execute_result"
    }
   ],
   "source": [
    "df_cities.head()"
   ]
  },
  {
   "cell_type": "code",
   "execution_count": 3,
   "metadata": {
    "collapsed": true
   },
   "outputs": [],
   "source": [
    "#load full csv\n",
    "full_df = pd.read_csv(\"52150_locations_USA_census_nonull.csv\")\n",
    "del full_df['Unnamed: 0']"
   ]
  },
  {
   "cell_type": "code",
   "execution_count": 9,
   "metadata": {
    "collapsed": false
   },
   "outputs": [
    {
     "name": "stdout",
     "output_type": "stream",
     "text": [
      "18.6554109896\n"
     ]
    }
   ],
   "source": [
    "subset = df_cities[['lat', 'lon']]\n",
    "\n",
    "t = time.time()\n",
    "\n",
    "d = pairwise_distances(subset)\n",
    "\n",
    "drr = d.ravel()\n",
    "print drr.mean()"
   ]
  },
  {
   "cell_type": "code",
   "execution_count": 32,
   "metadata": {
    "collapsed": false
   },
   "outputs": [
    {
     "name": "stdout",
     "output_type": "stream",
     "text": [
      "('Shape', (4942, 4942))\n",
      "('Number of comps', 1067)\n",
      "\n",
      "('Runtime', 1.7451629638671875)\n",
      "\n"
     ]
    }
   ],
   "source": [
    "subset = df_cities[['lat', 'lon']] #my lat/long\n",
    "\n",
    "t = time.time() #timing\n",
    "\n",
    "d = pairwise_distances(subset) #find pairwise distances between (lat,lon)\n",
    "print(\"Shape\",d.shape)\n",
    "\n",
    "d_bool = d < .3 #close obs are less than .35 away from each other, assign true if so\n",
    "\n",
    "g = nx.from_numpy_matrix(d_bool) #make my components ???\n",
    "\n",
    "print(\"Number of comps\",nx.number_connected_components(g))\n",
    "\n",
    "print\n",
    "print(\"Runtime\",time.time()-t)\n",
    "print\n",
    "\n",
    "comps = [_ for _ in nx.connected_components(g)]\n",
    "length_of_comps = [len(_) for _ in comps]\n",
    "length_of_comps = pd.Series(length_of_comps)"
   ]
  },
  {
   "cell_type": "code",
   "execution_count": 33,
   "metadata": {
    "collapsed": false
   },
   "outputs": [
    {
     "data": {
      "text/plain": [
       "{146}"
      ]
     },
     "execution_count": 33,
     "metadata": {},
     "output_type": "execute_result"
    }
   ],
   "source": [
    "comps[90]"
   ]
  },
  {
   "cell_type": "code",
   "execution_count": 31,
   "metadata": {
    "collapsed": false
   },
   "outputs": [
    {
     "name": "stdout",
     "output_type": "stream",
     "text": [
      "Mount Vernon, KY\n",
      "Lawrenceburg, IN\n",
      "Stow, OH\n",
      "Delaware, OH\n",
      "Lorain, OH\n",
      "Coshocton, OH\n",
      "Marine City, MI\n",
      "Kentwood, MI\n",
      "Shepherdsville, KY\n",
      "Johnstown, OH\n",
      "Versailles, KY\n",
      "Fremont, OH\n",
      "Rittman, OH\n",
      "Jefferson, OH\n",
      "Highland Heights, OH\n",
      "Cleveland, OH\n",
      "Oregon, OH\n",
      "New Carlisle, OH\n",
      "Dearborn Heights, MI\n",
      "Corydon, IN\n",
      "New Albany, IN\n",
      "Garfield Heights, OH\n",
      "Charlestown, IN\n",
      "Fishers, IN\n",
      "Fenton, MI\n",
      "Springville, NY\n",
      "Grandview Heights, OH\n",
      "Harper Woods, MI\n",
      "Romulus, MI\n",
      "Fulton, NY\n",
      "Crafton, PA\n",
      "Bellevue, KY\n",
      "Anderson, IN\n",
      "Canastota, NY\n",
      "Grand Rapids, MI\n",
      "Mount Washington, KY\n",
      "Bethel, OH\n",
      "New Baltimore, MI\n",
      "Orchard Park, NY\n",
      "Blue Ash, OH\n",
      "Brighton, MI\n",
      "Taylor Mill, KY\n",
      "Brackenridge, PA\n",
      "North Manchester, IN\n",
      "Batavia, NY\n",
      "Little Falls, NY\n",
      "Lake Orion, MI\n",
      "Canonsburg, PA\n",
      "Scottsburg, IN\n",
      "Bucyrus, OH\n",
      "Madison Heights, MI\n",
      "New Haven, IN\n",
      "Hartford City, IN\n",
      "Avon, IN\n",
      "Grove City, OH\n",
      "Vine Grove, KY\n",
      "Corry, PA\n",
      "Richmond, IN\n",
      "Churchill, PA\n",
      "Mansfield, OH\n",
      "Rochester, NY\n",
      "Wyandotte, MI\n",
      "Piqua, OH\n",
      "Oxford, MI\n",
      "Kalamazoo, MI\n",
      "Speedway, IN\n",
      "Brunswick, OH\n",
      "Mount Gilead, OH\n",
      "Baltimore, OH\n",
      "Xenia, OH\n",
      "Olean, NY\n",
      "North Tonawanda, NY\n",
      "Fostoria, OH\n",
      "Bexley, OH\n",
      "Martinsville, IN\n",
      "Upper Sandusky, OH\n",
      "Lincoln Park, MI\n",
      "Howell, MI\n",
      "Hilliard, OH\n",
      "Lancaster, OH\n",
      "Chester, WV\n",
      "Lakewood, NY\n",
      "Rocky River, OH\n",
      "Athens, OH\n",
      "West View, PA\n",
      "Berea, KY\n",
      "Webster, NY\n",
      "Grand Blanc, MI\n",
      "New Lexington, OH\n",
      "Williamsville, NY\n",
      "Franklin, IN\n",
      "Huron, OH\n",
      "Poland, OH\n",
      "Whitesboro, NY\n",
      "Highland Heights, KY\n",
      "Bellbrook, OH\n",
      "Ford City, PA\n",
      "Paw Paw, MI\n",
      "Clarksville, IN\n",
      "Frankenmuth, MI\n",
      "Westerville, OH\n",
      "Beech Grove, IN\n",
      "Ambridge, PA\n",
      "Allen Park, MI\n",
      "Grand Ledge, MI\n",
      "Holly, MI\n",
      "Logan, OH\n",
      "Romeo, MI\n",
      "Kent, OH\n",
      "Norwich, NY\n",
      "Rochester, MI\n",
      "Columbus, IN\n",
      "New Martinsville, WV\n",
      "Perrysburg, OH\n",
      "Bluffton, IN\n",
      "Lima, OH\n",
      "Grove City, PA\n",
      "Canandaigua, NY\n",
      "Geneseo, NY\n",
      "Huntington, IN\n",
      "Riverside, OH\n",
      "Villa Hills, KY\n",
      "Amelia, OH\n",
      "Dearborn, MI\n",
      "Eaton Rapids, MI\n",
      "Sheridan, IN\n",
      "Hillsboro, OH\n",
      "Ashville, OH\n",
      "Davison, MI\n",
      "East Liverpool, OH\n",
      "South Bend, IN\n",
      "Vassar, MI\n",
      "Edinboro, PA\n",
      "Southgate, MI\n",
      "Noblesville, IN\n",
      "Mattawan, MI\n",
      "Benton Harbor, MI\n",
      "Bloomfield, IN\n",
      "Lancaster, KY\n",
      "Durand, MI\n",
      "Greenville, MI\n",
      "Owosso, MI\n",
      "Ravenna, OH\n",
      "Almont, MI\n",
      "Chelsea, MI\n",
      "Waynesburg, PA\n",
      "Geneva, OH\n",
      "Blanchester, OH\n",
      "Flint, MI\n",
      "Walton, KY\n",
      "Heath, OH\n",
      "Chardon, OH\n",
      "Westlake, OH\n",
      "Algonac, MI\n",
      "Lebanon, IN\n",
      "Taylor, MI\n",
      "Utica, NY\n",
      "Uniontown, PA\n",
      "Fort Mitchell, KY\n",
      "Eastpointe, MI\n",
      "Dublin, OH\n",
      "Auburn Hills, MI\n",
      "Titusville, PA\n",
      "Donora, PA\n",
      "Southfield, MI\n",
      "Gahanna, OH\n",
      "Port Clinton, OH\n",
      "Harrison, OH\n",
      "Potterville, MI\n",
      "Peru, IN\n",
      "Riverview, MI\n",
      "Cheviot, OH\n",
      "Lagrange, IN\n",
      "Goshen, IN\n",
      "Jeffersonville, IN\n",
      "Sunbury, OH\n",
      "Enon, OH\n",
      "Wooster, OH\n",
      "Ypsilanti, MI\n",
      "Sandusky, OH\n",
      "Plainwell, MI\n",
      "Bloomfield Hills, MI\n",
      "Royal Oak, MI\n",
      "Dormont, PA\n",
      "Silver Creek, NY\n",
      "Madeira, OH\n",
      "Lapeer, MI\n",
      "Columbia City, IN\n",
      "Lakewood, OH\n",
      "Zeeland, MI\n",
      "Cedar Springs, MI\n",
      "Adrian, MI\n",
      "Danville, IN\n",
      "Olmsted Falls, OH\n",
      "Newark, NY\n",
      "Rome, NY\n",
      "Mount Sterling, KY\n",
      "Lisbon, OH\n",
      "Elkins, WV\n",
      "South Haven, MI\n",
      "Granville, OH\n",
      "Cadiz, OH\n",
      "Norwood, OH\n",
      "Brecksville, OH\n",
      "Loveland, OH\n",
      "Worthington, OH\n",
      "Bridgeport, WV\n",
      "Blasdell, NY\n",
      "Mason, OH\n",
      "Wintersville, OH\n",
      "Skaneateles, NY\n",
      "West Mifflin, PA\n",
      "Lawrenceburg, KY\n",
      "Dexter, MI\n",
      "Shelbyville, IN\n",
      "Waterloo, NY\n",
      "Sidney, OH\n",
      "Tonawanda, NY\n",
      "Galion, OH\n",
      "Mishawaka, IN\n",
      "Covington, KY\n",
      "Richmond Heights, OH\n",
      "Stanford, KY\n",
      "Jefferson Hills, PA\n",
      "Waterville, OH\n",
      "Brownsburg, IN\n",
      "Evendale, OH\n",
      "Alden, NY\n",
      "Frankfort, NY\n",
      "Irwin, PA\n",
      "Highland Park, MI\n",
      "Sabina, OH\n",
      "Mentor, OH\n",
      "Clio, MI\n",
      "Macedonia, OH\n",
      "Upper Arlington, OH\n",
      "Sturgis, MI\n",
      "Willard, OH\n",
      "Morgantown, WV\n",
      "Norton Shores, MI\n",
      "Nelsonville, OH\n",
      "Tallmadge, OH\n",
      "Victor, NY\n",
      "Pataskala, OH\n",
      "Brownsville, PA\n",
      "Minster, OH\n",
      "Fredonia, NY\n",
      "Dover, OH\n",
      "Pickerington, OH\n",
      "Kittanning, PA\n",
      "Pittsburgh, PA\n",
      "New Brighton, PA\n",
      "Alliance, OH\n",
      "Bradford, PA\n",
      "Seymour, IN\n",
      "Wickliffe, OH\n",
      "Whitehall, PA\n",
      "New Castle, PA\n",
      "Three Rivers, MI\n",
      "London, OH\n",
      "South Euclid, OH\n",
      "Cambridge, OH\n",
      "Dayton, OH\n",
      "West Newton, PA\n",
      "Harrodsburg, KY\n",
      "Bedford Heights, OH\n",
      "Nicholasville, KY\n",
      "Avon Lake, OH\n",
      "Milford, OH\n",
      "Waynesville, OH\n",
      "Deer Park, OH\n",
      "Follansbee, WV\n",
      "Georgetown, IN\n",
      "Akron, OH\n",
      "Detroit, MI\n",
      "Allegan, MI\n",
      "Meadville, PA\n",
      "Middleburg Heights, OH\n",
      "Urbana, OH\n",
      "Hudsonville, MI\n",
      "Inkster, MI\n",
      "North Kingsville, OH\n",
      "Farmington Hills, MI\n",
      "Danville, KY\n",
      "Cleveland Heights, OH\n",
      "White Oak, PA\n",
      "Fort Thomas, KY\n",
      "North Syracuse, NY\n",
      "North Olmsted, OH\n",
      "Cass City, MI\n",
      "Franklin, PA\n",
      "Bloomington, IN\n",
      "Whitehall, OH\n",
      "New Castle, IN\n",
      "Coldwater, MI\n",
      "Buckhannon, WV\n",
      "Independence, KY\n",
      "Forest Park, OH\n",
      "Brookville, OH\n",
      "Plum, PA\n",
      "Hartville, OH\n",
      "Brockport, NY\n",
      "Baldwin, PA\n",
      "Brownstown, IN\n",
      "Syracuse, NY\n",
      "Cold Spring, KY\n",
      "Clawson, MI\n",
      "Chagrin Falls, OH\n",
      "Canton, OH\n",
      "Hamtramck, MI\n",
      "Willoughby, OH\n",
      "Shelbyville, KY\n",
      "Maple Heights, OH\n",
      "Park Hills, KY\n",
      "Milford, MI\n",
      "Columbia, KY\n",
      "Gas City, IN\n",
      "Grafton, WV\n",
      "Shaker Heights, OH\n",
      "Connellsville, PA\n",
      "Berkeley, MI\n",
      "Geneva, NY\n",
      "Madison, IN\n",
      "Bowling Green, OH\n",
      "Homestead, PA\n",
      "Lawrence, IN\n",
      "Vandergrift, PA\n",
      "Greenwood, IN\n",
      "East Aurora, NY\n",
      "Hamilton, OH\n",
      "Garrett, IN\n",
      "Lockport, NY\n",
      "Millersburg, OH\n",
      "Saginaw, MI\n",
      "South Lyon, MI\n",
      "Swartz Creek, MI\n",
      "Saline, MI\n",
      "Wilder, KY\n",
      "Cleves, OH\n",
      "Richmond, KY\n",
      "Fort Wayne, IN\n",
      "Slippery Rock, PA\n",
      "Pepper Pike, OH\n",
      "Sebring, OH\n",
      "East Rochester, NY\n",
      "East Syracuse, NY\n",
      "Akron, NY\n",
      "Philippi, WV\n",
      "Union City, PA\n",
      "North Baltimore, OH\n",
      "Mount Pleasant, PA\n",
      "Fort Wright, KY\n",
      "Plymouth, MI\n",
      "Tarentum, PA\n",
      "Bardstown, KY\n",
      "Lackawanna, NY\n",
      "Crestview Hills, KY\n",
      "Lebanon, KY\n",
      "Clyde, OH\n",
      "Elkhart, IN\n",
      "Wadsworth, OH\n",
      "Trafford, PA\n",
      "Lansing, MI\n",
      "Circleville, OH\n",
      "Toledo, OH\n",
      "Crestline, OH\n",
      "Cincinnati, OH\n",
      "Union, OH\n",
      "Oakwood, OH\n",
      "Depew, NY\n",
      "Spencerport, NY\n",
      "Westfield, NY\n",
      "Batesville, IN\n",
      "Moundsville, WV\n",
      "Imlay City, MI\n",
      "McCordsville, IN\n",
      "Hermitage, PA\n",
      "Huntertown, IN\n",
      "Carrollton, OH\n",
      "Jamestown, NY\n",
      "Chittenango, NY\n",
      "Frankfort, KY\n",
      "Middletown, OH\n",
      "Centerville, PA\n",
      "Mount Orab, OH\n",
      "Oakmont, PA\n",
      "Elizabethtown, KY\n",
      "Shelby, OH\n",
      "North Vernon, IN\n",
      "Angola, IN\n",
      "Muncie, IN\n",
      "Medina, OH\n",
      "Blissfield, MI\n",
      "Frankfort, IN\n",
      "Washington, PA\n",
      "Kingwood, WV\n",
      "Liverpool, NY\n",
      "Kirtland, OH\n",
      "Barberton, OH\n",
      "Honeoye Falls, NY\n",
      "Springdale, PA\n",
      "Louisville, KY\n",
      "Lordstown, OH\n",
      "Penn Yan, NY\n",
      "North Ridgeville, OH\n",
      "New Philadelphia, OH\n",
      "Brookville, IN\n",
      "Louisville, OH\n",
      "Greencastle, IN\n",
      "North Royalton, OH\n",
      "Ann Arbor, MI\n",
      "Masontown, PA\n",
      "Etna, PA\n",
      "Ashland, OH\n",
      "Niles, MI\n",
      "Uhrichsville, OH\n",
      "Cedarville, OH\n",
      "North Canton, OH\n",
      "Sheffield Lake, OH\n",
      "Brandenburg, KY\n",
      "Beaver Falls, PA\n",
      "Delphos, OH\n",
      "Marysville, OH\n",
      "Springboro, OH\n",
      "Kokomo, IN\n",
      "Delmont, PA\n",
      "Fairborn, OH\n",
      "Middlefield, OH\n",
      "Bay City, MI\n",
      "Martins Ferry, OH\n",
      "Kendallville, IN\n",
      "Wellsville, OH\n",
      "Flat Rock, MI\n",
      "Yorktown, IN\n",
      "Winchester, KY\n",
      "Cortland, OH\n",
      "Willowick, OH\n",
      "Cazenovia, NY\n",
      "Charleroi, PA\n",
      "Tiffin, OH\n",
      "Bluffton, OH\n",
      "Wapakoneta, OH\n",
      "Centerville, OH\n",
      "Golf Manor, OH\n",
      "Oak Harbor, OH\n",
      "Mount Clemens, MI\n",
      "Wabash, IN\n",
      "Pontiac, MI\n",
      "Connersville, IN\n",
      "Bethel Park, PA\n",
      "Richfield, OH\n",
      "Minoa, NY\n",
      "Findlay, OH\n",
      "Elyria, OH\n",
      "Rochester, PA\n",
      "Farrell, PA\n",
      "Whitehall, MI\n",
      "Fremont, MI\n",
      "Carey, OH\n",
      "Springfield, KY\n",
      "Caro, MI\n",
      "Wilmore, KY\n",
      "Swanton, OH\n",
      "Painesville, OH\n",
      "Canal Winchester, OH\n",
      "Marysville, MI\n",
      "Solon, OH\n",
      "Woodhaven, MI\n",
      "Warren, OH\n",
      "Buffalo, NY\n",
      "West Milton, OH\n",
      "Oneida, NY\n",
      "Wolverine Lake, MI\n",
      "Fraser, MI\n",
      "Parma, OH\n",
      "Shadyside, OH\n",
      "North Muskegon, MI\n",
      "Maumee, OH\n",
      "Fowlerville, MI\n",
      "Zelienople, PA\n",
      "Sewickley, PA\n",
      "Mogadore, OH\n",
      "Williamston, MI\n",
      "Fort Shawnee, OH\n",
      "Rochester Hills, MI\n",
      "Albion, NY\n",
      "Beavercreek, OH\n",
      "Lebanon, OH\n",
      "Florence, KY\n",
      "Portland, MI\n",
      "Aurora, OH\n",
      "Munhall, PA\n",
      "Novi, MI\n",
      "Trenton, OH\n",
      "Bay Village, OH\n",
      "Wixom, MI\n",
      "Seven Hills, OH\n",
      "Carrollton, KY\n",
      "Stanton, KY\n",
      "Norwalk, OH\n",
      "Mount Vernon, OH\n",
      "Sellersburg, IN\n",
      "Doylestown, OH\n",
      "Greensburg, PA\n",
      "Greenville, PA\n",
      "Strongsville, OH\n",
      "Strasburg, OH\n",
      "Newcomerstown, OH\n",
      "Troy, MI\n",
      "Holland, MI\n",
      "Niles, OH\n",
      "Georgetown, KY\n",
      "Wellington, OH\n",
      "Mount Morris, MI\n",
      "Niagara Falls, NY\n",
      "Dansville, NY\n",
      "Broadview Heights, OH\n",
      "Weston, WV\n",
      "Clairton, PA\n",
      "South Lebanon, OH\n",
      "Cicero, IN\n",
      "Fairport, NY\n",
      "Rockwood, MI\n",
      "Scottdale, PA\n",
      "Kenton, OH\n",
      "Ilion, NY\n",
      "Whiteland, IN\n",
      "Alexandria, KY\n",
      "Powell, OH\n",
      "Eaton, OH\n",
      "Clarksburg, WV\n",
      "Hamburg, NY\n",
      "Dundee, MI\n",
      "Sharpsville, PA\n",
      "Orrville, OH\n",
      "Miamisburg, OH\n",
      "Delta, OH\n",
      "Hazel Park, MI\n",
      "Beachwood, OH\n",
      "Coopersville, MI\n",
      "Bellaire, OH\n",
      "Vandalia, OH\n",
      "Homer, NY\n",
      "Massillon, OH\n",
      "Albion, MI\n",
      "Streetsboro, OH\n",
      "Zionsville, IN\n",
      "Muskegon, MI\n",
      "Mount Oliver, PA\n",
      "Middlebury, IN\n",
      "Troy, OH\n",
      "Port Huron, MI\n",
      "Youngstown, OH\n",
      "Fairmont, WV\n",
      "Gowanda, NY\n",
      "Fayetteville, NY\n",
      "Columbus, OH\n",
      "Logansport, IN\n",
      "Walled Lake, MI\n",
      "Hornell, NY\n",
      "Ligonier, IN\n",
      "Greenville, OH\n",
      "Coldwater, OH\n",
      "Latrobe, PA\n",
      "Fairlawn, OH\n",
      "Auburn, NY\n",
      "Ellwood City, PA\n",
      "Palmyra, NY\n",
      "Paris, KY\n",
      "Plain City, OH\n",
      "Germantown, OH\n",
      "Wilmington, OH\n",
      "Glassport, PA\n",
      "Mount Morris, NY\n",
      "Englewood, OH\n",
      "Wayne, MI\n",
      "Independence, OH\n",
      "Groveport, OH\n",
      "Georgetown, OH\n",
      "Erlanger, KY\n",
      "Beaver, PA\n",
      "Kenmore, NY\n",
      "Steubenville, OH\n",
      "Marion, OH\n",
      "Campbellsville, KY\n",
      "Essexville, MI\n",
      "Grand Haven, MI\n",
      "Columbiana, OH\n",
      "Oil City, PA\n",
      "Conneaut, OH\n",
      "Marion, IN\n",
      "Ionia, MI\n",
      "Wauseon, OH\n",
      "Greenfield, OH\n",
      "Euclid, OH\n",
      "Baldwinsville, NY\n",
      "Springfield, OH\n",
      "Barnesville, OH\n",
      "Prospect, KY\n",
      "Manlius, NY\n",
      "Aliquippa, PA\n",
      "East Palestine, OH\n",
      "New Kensington, PA\n",
      "Canfield, OH\n",
      "Bellefontaine, OH\n",
      "Sylvania, OH\n",
      "Newark, OH\n",
      "Greensburg, IN\n",
      "Berea, OH\n",
      "Sterling Heights, MI\n",
      "Seneca Falls, NY\n",
      "Carmel, IN\n",
      "Lexington, OH\n",
      "Tipp City, OH\n",
      "Weirton, WV\n",
      "Reynoldsburg, OH\n",
      "Dunkirk, NY\n",
      "Upland, IN\n",
      "Forest Hills, PA\n",
      "Livonia, MI\n",
      "Wheeling, WV\n",
      "Newton Falls, OH\n",
      "Hamilton, NY\n",
      "Salamanca, NY\n",
      "Bellevue, PA\n",
      "Westland, MI\n",
      "Hilton, NY\n",
      "Burton, MI\n",
      "Kane, PA\n",
      "Lowell, MI\n",
      "Westfield, IN\n",
      "Oxford, OH\n",
      "Dowagiac, MI\n",
      "Huber Heights, OH\n",
      "Fortville, IN\n",
      "Girard, OH\n",
      "Northville, MI\n",
      "Lyndhurst, OH\n",
      "Hubbard, OH\n",
      "Ecorse, MI\n",
      "Belleville, MI\n",
      "Celina, OH\n",
      "Grandville, MI\n",
      "East Lansing, MI\n",
      "Washington Court House, OH\n",
      "Kettering, OH\n",
      "Newport, KY\n",
      "Medina, NY\n",
      "Avon, OH\n",
      "Erie, PA\n",
      "East Grand Rapids, MI\n",
      "Struthers, OH\n",
      "Melvindale, MI\n",
      "Clayton, OH\n",
      "Vermilion, OH\n",
      "Salem, OH\n",
      "Bellevue, OH\n",
      "Sharon, PA\n",
      "Hudson, OH\n",
      "Reading, OH\n",
      "Attica, NY\n",
      "Radcliff, KY\n",
      "Oberlin, OH\n",
      "Warren, MI\n",
      "New Whiteland, IN\n",
      "Northwood, OH\n",
      "Rushville, IN\n",
      "Cuyahoga Falls, OH\n",
      "Brook Park, OH\n",
      "Indianapolis, IN\n"
     ]
    }
   ],
   "source": [
    "for ind in comps[1]:\n",
    "    print df_cities.ix[ind].CityST"
   ]
  },
  {
   "cell_type": "code",
   "execution_count": null,
   "metadata": {
    "collapsed": true
   },
   "outputs": [],
   "source": []
  },
  {
   "cell_type": "code",
   "execution_count": 6,
   "metadata": {
    "collapsed": true
   },
   "outputs": [],
   "source": [
    "#assign comp number to obs row\n",
    "for i in range(len(length_of_comps)):\n",
    "    for ind in comps[i]:\n",
    "        df_cities.set_value(ind,9,i,takeable = True)"
   ]
  },
  {
   "cell_type": "code",
   "execution_count": 7,
   "metadata": {
    "collapsed": true
   },
   "outputs": [],
   "source": [
    "merged = pd.merge(full_df,df_cities[['CityST','dist_comp']],how='inner',on='CityST')"
   ]
  },
  {
   "cell_type": "markdown",
   "metadata": {},
   "source": [
    "###Date"
   ]
  },
  {
   "cell_type": "code",
   "execution_count": 102,
   "metadata": {
    "collapsed": false
   },
   "outputs": [
    {
     "data": {
      "text/plain": [
       "5609"
      ]
     },
     "execution_count": 102,
     "metadata": {},
     "output_type": "execute_result"
    }
   ],
   "source": [
    "test_df_comp1 = merged[merged['dist_comp']==1]\n",
    "len(test_df_comp1)"
   ]
  },
  {
   "cell_type": "code",
   "execution_count": 103,
   "metadata": {
    "collapsed": false
   },
   "outputs": [
    {
     "name": "stdout",
     "output_type": "stream",
     "text": [
      "1376.57987518\n"
     ]
    }
   ],
   "source": [
    "subset = test_df_comp1[['duration_seconds']]\n",
    "\n",
    "d = pairwise_distances(subset) #find pairwise distances between duration in seconds\n",
    "\n",
    "dr = d.ravel()\n",
    "print dr.mean()"
   ]
  },
  {
   "cell_type": "code",
   "execution_count": 104,
   "metadata": {
    "collapsed": false
   },
   "outputs": [
    {
     "name": "stdout",
     "output_type": "stream",
     "text": [
      "('Shape', (5609, 5609))\n",
      "('Number of comps', 65)\n",
      "\n",
      "('Runtime', 16.881983995437622)\n",
      "\n"
     ]
    }
   ],
   "source": [
    "t = time.time()\n",
    "print(\"Shape\",d.shape)\n",
    "d_bool = d < 5 #close obs are less than 5 seconds difference from each other, assign true if so\n",
    "g = nx.from_numpy_matrix(d_bool) \n",
    "print(\"Number of comps\",nx.number_connected_components(g))\n",
    "\n",
    "print\n",
    "print(\"Runtime\",time.time()-t)\n",
    "print\n",
    "\n",
    "comps = [_ for _ in nx.connected_components(g)]\n",
    "length_of_comps = [len(_) for _ in comps]\n",
    "length_of_comps = pd.Series(length_of_comps)"
   ]
  },
  {
   "cell_type": "code",
   "execution_count": 105,
   "metadata": {
    "collapsed": true
   },
   "outputs": [],
   "source": [
    "dr_pd = pd.Series(dr)"
   ]
  },
  {
   "cell_type": "code",
   "execution_count": null,
   "metadata": {
    "collapsed": true
   },
   "outputs": [],
   "source": [
    "for i in range(len(length_of_comps)):    \n",
    "    for ind in comps[i]:\n",
    "        print subset.iloc[ind]"
   ]
  },
  {
   "cell_type": "code",
   "execution_count": 107,
   "metadata": {
    "collapsed": false
   },
   "outputs": [
    {
     "data": {
      "text/plain": [
       "(5609,)"
      ]
     },
     "execution_count": 107,
     "metadata": {},
     "output_type": "execute_result"
    }
   ],
   "source": [
    "test_df_comp1.date_datetime.shape"
   ]
  },
  {
   "cell_type": "code",
   "execution_count": 119,
   "metadata": {
    "collapsed": false,
    "scrolled": true
   },
   "outputs": [
    {
     "data": {
      "text/plain": [
       "Index([u'city', u'shape', u'duration', u'state', u'link', u'date',\n",
       "       u'date_datetime', u'duration_seconds', u'day', u'link_no_ext', u'lat',\n",
       "       u'long', u'pre2015', u'daylight', u'USA', u'lat_', u'long_', u'city_',\n",
       "       u'district_', u'state_', u'country_', u'AirportDist', u'BaseDist',\n",
       "       u'census_year', u'ID', u'City', u'ST', u'CityST', u'Name_2010',\n",
       "       u'County', u'LAT', u'LON', u'year', u'pop', u'yr_of_sighting',\n",
       "       u'dist_comp'],\n",
       "      dtype='object')"
      ]
     },
     "execution_count": 119,
     "metadata": {},
     "output_type": "execute_result"
    }
   ],
   "source": [
    "merged.columns"
   ]
  },
  {
   "cell_type": "code",
   "execution_count": 122,
   "metadata": {
    "collapsed": false,
    "scrolled": true
   },
   "outputs": [
    {
     "data": {
      "text/plain": [
       "770"
      ]
     },
     "execution_count": 122,
     "metadata": {},
     "output_type": "execute_result"
    }
   ],
   "source": [
    "len(merged.dist_comp.unique())"
   ]
  },
  {
   "cell_type": "code",
   "execution_count": 51,
   "metadata": {
    "collapsed": false
   },
   "outputs": [],
   "source": [
    "parsed = parser.parse(merged['date_datetime'][0])"
   ]
  },
  {
   "cell_type": "code",
   "execution_count": 8,
   "metadata": {
    "collapsed": true
   },
   "outputs": [],
   "source": [
    "def to_seconds(x):\n",
    "    t = datetime.datetime(1900,1,1)\n",
    "    return (parser.parse(x) - t).total_seconds()\n",
    "\n",
    "def to_ordinal(x):\n",
    "    return parser.parse(x).toordinal()"
   ]
  },
  {
   "cell_type": "code",
   "execution_count": 12,
   "metadata": {
    "collapsed": false
   },
   "outputs": [],
   "source": [
    "merged['seconds'] = merged['date_datetime'].map(lambda x: to_seconds(x))"
   ]
  },
  {
   "cell_type": "code",
   "execution_count": 142,
   "metadata": {
    "collapsed": false
   },
   "outputs": [
    {
     "name": "stdout",
     "output_type": "stream",
     "text": [
      "3726.15605342\n"
     ]
    }
   ],
   "source": [
    "#subset = merged[['day']]\n",
    "#subset = unique_days\n",
    "subset_df = merged[merged['dist_comp']==1].reset_index()\n",
    "subset = subset_df[['bin_seconds']]\n",
    "\n",
    "d = pairwise_distances(subset) #find pairwise distances between duration in seconds\n",
    "\n",
    "dr = d.ravel()\n",
    "print dr.mean()"
   ]
  },
  {
   "cell_type": "code",
   "execution_count": 152,
   "metadata": {
    "collapsed": false
   },
   "outputs": [
    {
     "name": "stdout",
     "output_type": "stream",
     "text": [
      "('Shape', (5609, 5609))\n",
      "('Number of comps', 3407)\n",
      "\n",
      "('Runtime', 0.5077390670776367)\n",
      "\n"
     ]
    }
   ],
   "source": [
    "t = time.time()\n",
    "print(\"Shape\",d.shape)\n",
    "d_bool = d < 1 #close obs are less than 2 bins difference from each other, assign true if so\n",
    "g = nx.from_numpy_matrix(d_bool) \n",
    "print(\"Number of comps\",nx.number_connected_components(g))\n",
    "\n",
    "print\n",
    "print(\"Runtime\",time.time()-t)\n",
    "print\n",
    "\n",
    "comps = [_ for _ in nx.connected_components(g)]\n",
    "length_of_comps = [len(_) for _ in comps]\n",
    "length_of_comps = pd.Series(length_of_comps)"
   ]
  },
  {
   "cell_type": "code",
   "execution_count": 156,
   "metadata": {
    "collapsed": true
   },
   "outputs": [],
   "source": [
    "drp = pd.Series(dr)"
   ]
  },
  {
   "cell_type": "code",
   "execution_count": 157,
   "metadata": {
    "collapsed": false
   },
   "outputs": [
    {
     "data": {
      "text/plain": [
       "<matplotlib.axes._subplots.AxesSubplot at 0x1ab8eae50>"
      ]
     },
     "execution_count": 157,
     "metadata": {},
     "output_type": "execute_result"
    },
    {
     "data": {
      "image/png": "[encoded data removed]",
      "text/plain": [
       "<matplotlib.figure.Figure at 0x101d0e090>"
      ]
     },
     "metadata": {},
     "output_type": "display_data"
    }
   ],
   "source": [
    "drp.hist(bins=100)"
   ]
  },
  {
   "cell_type": "markdown",
   "metadata": {},
   "source": [
    "###Bin things"
   ]
  },
  {
   "cell_type": "code",
   "execution_count": 10,
   "metadata": {
    "collapsed": false
   },
   "outputs": [],
   "source": [
    "labels = range(100)\n",
    "\n",
    "#bin distance to Airport and Military bases\n",
    "bins_airport = pd.cut(full_df.AirportDist,100,labels=labels)\n",
    "bins_military = pd.cut(full_df.BaseDist,100,labels=labels)"
   ]
  },
  {
   "cell_type": "code",
   "execution_count": 13,
   "metadata": {
    "collapsed": false
   },
   "outputs": [],
   "source": [
    "bins = 30000\n",
    "labels_seconds = range(bins)\n",
    "bins_seconds = pd.cut(merged.seconds,bins, labels=labels_seconds)"
   ]
  },
  {
   "cell_type": "code",
   "execution_count": 14,
   "metadata": {
    "collapsed": false
   },
   "outputs": [],
   "source": [
    "merged['bin_seconds'] = bins_seconds"
   ]
  },
  {
   "cell_type": "code",
   "execution_count": 15,
   "metadata": {
    "collapsed": false
   },
   "outputs": [
    {
     "data": {
      "text/html": [
       "<div>\n",
       "<table border=\"1\" class=\"dataframe\">\n",
       "  <thead>\n",
       "    <tr style=\"text-align: right;\">\n",
       "      <th></th>\n",
       "      <th>city</th>\n",
       "      <th>shape</th>\n",
       "      <th>duration</th>\n",
       "      <th>state</th>\n",
       "      <th>link</th>\n",
       "      <th>date</th>\n",
       "      <th>date_datetime</th>\n",
       "      <th>duration_seconds</th>\n",
       "      <th>day</th>\n",
       "      <th>link_no_ext</th>\n",
       "      <th>...</th>\n",
       "      <th>Name_2010</th>\n",
       "      <th>County</th>\n",
       "      <th>LAT</th>\n",
       "      <th>LON</th>\n",
       "      <th>year</th>\n",
       "      <th>pop</th>\n",
       "      <th>yr_of_sighting</th>\n",
       "      <th>dist_comp</th>\n",
       "      <th>seconds</th>\n",
       "      <th>bin_seconds</th>\n",
       "    </tr>\n",
       "  </thead>\n",
       "  <tbody>\n",
       "    <tr>\n",
       "      <th>0</th>\n",
       "      <td>Mokena</td>\n",
       "      <td>circle</td>\n",
       "      <td>30 seconds</td>\n",
       "      <td>IL</td>\n",
       "      <td>121/S121083.html</td>\n",
       "      <td>8/13/15 21:00</td>\n",
       "      <td>2015-08-13 21:00:00</td>\n",
       "      <td>30</td>\n",
       "      <td>735823</td>\n",
       "      <td>121/S121083</td>\n",
       "      <td>...</td>\n",
       "      <td>Mokena village</td>\n",
       "      <td>Will</td>\n",
       "      <td>41.529863</td>\n",
       "      <td>-87.87771</td>\n",
       "      <td>2010</td>\n",
       "      <td>18740</td>\n",
       "      <td>2015</td>\n",
       "      <td>52</td>\n",
       "      <td>3648488400</td>\n",
       "      <td>29999</td>\n",
       "    </tr>\n",
       "    <tr>\n",
       "      <th>1</th>\n",
       "      <td>Mokena</td>\n",
       "      <td>cigar</td>\n",
       "      <td>1-3 minutes</td>\n",
       "      <td>IL</td>\n",
       "      <td>108/S108589.html</td>\n",
       "      <td>4/12/14 21:35</td>\n",
       "      <td>2014-04-12 21:35:00</td>\n",
       "      <td>180</td>\n",
       "      <td>735335</td>\n",
       "      <td>108/S108589</td>\n",
       "      <td>...</td>\n",
       "      <td>Mokena village</td>\n",
       "      <td>Will</td>\n",
       "      <td>41.529863</td>\n",
       "      <td>-87.87771</td>\n",
       "      <td>2010</td>\n",
       "      <td>18740</td>\n",
       "      <td>2014</td>\n",
       "      <td>52</td>\n",
       "      <td>3606327300</td>\n",
       "      <td>29500</td>\n",
       "    </tr>\n",
       "    <tr>\n",
       "      <th>2</th>\n",
       "      <td>Mokena</td>\n",
       "      <td>unknown</td>\n",
       "      <td>15-20 minutes</td>\n",
       "      <td>IL</td>\n",
       "      <td>102/S102620.html</td>\n",
       "      <td>9/24/13 19:45</td>\n",
       "      <td>2013-09-24 19:45:00</td>\n",
       "      <td>1200</td>\n",
       "      <td>735135</td>\n",
       "      <td>102/S102620</td>\n",
       "      <td>...</td>\n",
       "      <td>Mokena village</td>\n",
       "      <td>Will</td>\n",
       "      <td>41.529863</td>\n",
       "      <td>-87.87771</td>\n",
       "      <td>2010</td>\n",
       "      <td>18740</td>\n",
       "      <td>2013</td>\n",
       "      <td>52</td>\n",
       "      <td>3589040700</td>\n",
       "      <td>29295</td>\n",
       "    </tr>\n",
       "    <tr>\n",
       "      <th>3</th>\n",
       "      <td>Mokena</td>\n",
       "      <td>circle</td>\n",
       "      <td>15-20 minutes</td>\n",
       "      <td>IL</td>\n",
       "      <td>089/S89213.html</td>\n",
       "      <td>5/26/12 21:00</td>\n",
       "      <td>2012-05-26 21:00:00</td>\n",
       "      <td>1200</td>\n",
       "      <td>734649</td>\n",
       "      <td>089/S89213</td>\n",
       "      <td>...</td>\n",
       "      <td>Mokena village</td>\n",
       "      <td>Will</td>\n",
       "      <td>41.529863</td>\n",
       "      <td>-87.87771</td>\n",
       "      <td>2010</td>\n",
       "      <td>18740</td>\n",
       "      <td>2012</td>\n",
       "      <td>52</td>\n",
       "      <td>3547054800</td>\n",
       "      <td>28797</td>\n",
       "    </tr>\n",
       "    <tr>\n",
       "      <th>4</th>\n",
       "      <td>Mokena</td>\n",
       "      <td>light</td>\n",
       "      <td>20 sec</td>\n",
       "      <td>IL</td>\n",
       "      <td>083/S83822.html</td>\n",
       "      <td>9/9/11 23:05</td>\n",
       "      <td>2011-09-09 23:05:00</td>\n",
       "      <td>20</td>\n",
       "      <td>734389</td>\n",
       "      <td>083/S83822</td>\n",
       "      <td>...</td>\n",
       "      <td>Mokena village</td>\n",
       "      <td>Will</td>\n",
       "      <td>41.529863</td>\n",
       "      <td>-87.87771</td>\n",
       "      <td>2010</td>\n",
       "      <td>18740</td>\n",
       "      <td>2011</td>\n",
       "      <td>52</td>\n",
       "      <td>3524598300</td>\n",
       "      <td>28531</td>\n",
       "    </tr>\n",
       "  </tbody>\n",
       "</table>\n",
       "<p>5 rows × 38 columns</p>\n",
       "</div>"
      ],
      "text/plain": [
       "     city    shape       duration state              link           date  \\\n",
       "0  Mokena   circle     30 seconds    IL  121/S121083.html  8/13/15 21:00   \n",
       "1  Mokena    cigar    1-3 minutes    IL  108/S108589.html  4/12/14 21:35   \n",
       "2  Mokena  unknown  15-20 minutes    IL  102/S102620.html  9/24/13 19:45   \n",
       "3  Mokena   circle  15-20 minutes    IL   089/S89213.html  5/26/12 21:00   \n",
       "4  Mokena    light         20 sec    IL   083/S83822.html   9/9/11 23:05   \n",
       "\n",
       "         date_datetime  duration_seconds     day  link_no_ext     ...      \\\n",
       "0  2015-08-13 21:00:00                30  735823  121/S121083     ...       \n",
       "1  2014-04-12 21:35:00               180  735335  108/S108589     ...       \n",
       "2  2013-09-24 19:45:00              1200  735135  102/S102620     ...       \n",
       "3  2012-05-26 21:00:00              1200  734649   089/S89213     ...       \n",
       "4  2011-09-09 23:05:00                20  734389   083/S83822     ...       \n",
       "\n",
       "        Name_2010  County        LAT       LON  year    pop  yr_of_sighting  \\\n",
       "0  Mokena village    Will  41.529863 -87.87771  2010  18740            2015   \n",
       "1  Mokena village    Will  41.529863 -87.87771  2010  18740            2014   \n",
       "2  Mokena village    Will  41.529863 -87.87771  2010  18740            2013   \n",
       "3  Mokena village    Will  41.529863 -87.87771  2010  18740            2012   \n",
       "4  Mokena village    Will  41.529863 -87.87771  2010  18740            2011   \n",
       "\n",
       "  dist_comp     seconds bin_seconds  \n",
       "0        52  3648488400       29999  \n",
       "1        52  3606327300       29500  \n",
       "2        52  3589040700       29295  \n",
       "3        52  3547054800       28797  \n",
       "4        52  3524598300       28531  \n",
       "\n",
       "[5 rows x 38 columns]"
      ]
     },
     "execution_count": 15,
     "metadata": {},
     "output_type": "execute_result"
    }
   ],
   "source": [
    "merged.head()"
   ]
  },
  {
   "cell_type": "code",
   "execution_count": 112,
   "metadata": {
    "collapsed": false
   },
   "outputs": [],
   "source": [
    "group_by_year = merged.groupby('yr_of_sighting')"
   ]
  },
  {
   "cell_type": "code",
   "execution_count": 118,
   "metadata": {
    "collapsed": false
   },
   "outputs": [
    {
     "data": {
      "text/plain": [
       "<matplotlib.axes._subplots.AxesSubplot at 0x11d982450>"
      ]
     },
     "execution_count": 118,
     "metadata": {},
     "output_type": "execute_result"
    },
    {
     "data": {
      "image/png": "[encoded data removed]",
      "text/plain": [
       "<matplotlib.figure.Figure at 0x11d9af390>"
      ]
     },
     "metadata": {},
     "output_type": "display_data"
    }
   ],
   "source": [
    "merged.yr_of_sighting.hist(bins=50)"
   ]
  },
  {
   "cell_type": "markdown",
   "metadata": {},
   "source": [
    "###Aggregate"
   ]
  },
  {
   "cell_type": "code",
   "execution_count": 43,
   "metadata": {
    "collapsed": false
   },
   "outputs": [],
   "source": [
    "merged['bin_seconds'] = merged['bin_seconds'].astype(int) #convert bin_seconds from categorical var"
   ]
  },
  {
   "cell_type": "code",
   "execution_count": 45,
   "metadata": {
    "collapsed": false
   },
   "outputs": [],
   "source": [
    "agg = merged.groupby(['bin_seconds','dist_comp']) #groupby time bin and location bin"
   ]
  },
  {
   "cell_type": "code",
   "execution_count": 80,
   "metadata": {
    "collapsed": false
   },
   "outputs": [],
   "source": [
    "counts = pd.DataFrame(agg.size()).reset_index()\n",
    "counts=counts.rename(columns = {0:'counts'})"
   ]
  },
  {
   "cell_type": "code",
   "execution_count": 81,
   "metadata": {
    "collapsed": false
   },
   "outputs": [
    {
     "data": {
      "text/html": [
       "<div>\n",
       "<table border=\"1\" class=\"dataframe\">\n",
       "  <thead>\n",
       "    <tr style=\"text-align: right;\">\n",
       "      <th></th>\n",
       "      <th>bin_seconds</th>\n",
       "      <th>dist_comp</th>\n",
       "      <th>counts</th>\n",
       "    </tr>\n",
       "  </thead>\n",
       "  <tbody>\n",
       "    <tr>\n",
       "      <th>0</th>\n",
       "      <td>0</td>\n",
       "      <td>103</td>\n",
       "      <td>1</td>\n",
       "    </tr>\n",
       "    <tr>\n",
       "      <th>1</th>\n",
       "      <td>847</td>\n",
       "      <td>103</td>\n",
       "      <td>1</td>\n",
       "    </tr>\n",
       "    <tr>\n",
       "      <th>2</th>\n",
       "      <td>1554</td>\n",
       "      <td>462</td>\n",
       "      <td>1</td>\n",
       "    </tr>\n",
       "    <tr>\n",
       "      <th>3</th>\n",
       "      <td>1893</td>\n",
       "      <td>1</td>\n",
       "      <td>1</td>\n",
       "    </tr>\n",
       "    <tr>\n",
       "      <th>4</th>\n",
       "      <td>2541</td>\n",
       "      <td>103</td>\n",
       "      <td>1</td>\n",
       "    </tr>\n",
       "  </tbody>\n",
       "</table>\n",
       "</div>"
      ],
      "text/plain": [
       "   bin_seconds  dist_comp  counts\n",
       "0            0        103       1\n",
       "1          847        103       1\n",
       "2         1554        462       1\n",
       "3         1893          1       1\n",
       "4         2541        103       1"
      ]
     },
     "execution_count": 81,
     "metadata": {},
     "output_type": "execute_result"
    }
   ],
   "source": [
    "counts.head()"
   ]
  },
  {
   "cell_type": "markdown",
   "metadata": {},
   "source": [
    "###Merge this"
   ]
  },
  {
   "cell_type": "code",
   "execution_count": 82,
   "metadata": {
    "collapsed": false
   },
   "outputs": [
    {
     "name": "stdout",
     "output_type": "stream",
     "text": [
      "52147\n",
      "41757\n"
     ]
    }
   ],
   "source": [
    "print len(merged)\n",
    "print len(counts)"
   ]
  },
  {
   "cell_type": "code",
   "execution_count": 83,
   "metadata": {
    "collapsed": false
   },
   "outputs": [],
   "source": [
    "new_merged = pd.merge(merged,counts,how=\"inner\",on=['bin_seconds','dist_comp'])"
   ]
  },
  {
   "cell_type": "code",
   "execution_count": 88,
   "metadata": {
    "collapsed": false
   },
   "outputs": [
    {
     "data": {
      "text/plain": [
       "<matplotlib.axes._subplots.AxesSubplot at 0x101ded350>"
      ]
     },
     "execution_count": 88,
     "metadata": {},
     "output_type": "execute_result"
    },
    {
     "data": {
      "image/png": "[encoded data removed]",
      "text/plain": [
       "<matplotlib.figure.Figure at 0x10b04a390>"
      ]
     },
     "metadata": {},
     "output_type": "display_data"
    }
   ],
   "source": [
    "new_merged.counts.hist(bins=100)"
   ]
  },
  {
   "cell_type": "code",
   "execution_count": 89,
   "metadata": {
    "collapsed": true
   },
   "outputs": [],
   "source": [
    "new_merged.to_csv(\"52147_reliability_count.csv\",encoding=\"utf-8\")"
   ]
  },
  {
   "cell_type": "code",
   "execution_count": null,
   "metadata": {
    "collapsed": true
   },
   "outputs": [],
   "source": [
    "results = []\n",
    "for n in range(1,21):\n",
    "    k = KNeighborsClassifier(n_neighbors=n)\n",
    "    k.fit(X_train,y_train)\n",
    "    results.append(accuracy_score(k.predict(X_test),y_test))\n",
    "    print(\"Accuracy at k={0}: {1:0.4f}\".format(n,accuracy_score(k.predict(X_test),y_test)))\n",
    "\n",
    "k_best = results.index(max(results))+1\n",
    "print(\"\\nMax accuracy score of {0:0.4f} with k-value {1}\".format(max(results),duplicates(results,max(results))))"
   ]
  },
  {
   "cell_type": "code",
   "execution_count": null,
   "metadata": {
    "collapsed": true
   },
   "outputs": [],
   "source": []
  }
 ],
 "metadata": {
  "kernelspec": {
   "display_name": "Python 2",
   "language": "python",
   "name": "python2"
  },
  "language_info": {
   "codemirror_mode": {
    "name": "ipython",
    "version": 2
   },
   "file_extension": ".py",
   "mimetype": "text/x-python",
   "name": "python",
   "nbconvert_exporter": "python",
   "pygments_lexer": "ipython2",
   "version": "2.7.10"
  }
 },
 "nbformat": 4,
 "nbformat_minor": 0
}
